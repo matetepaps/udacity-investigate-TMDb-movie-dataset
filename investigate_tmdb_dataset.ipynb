{
 "cells": [
  {
   "cell_type": "markdown",
   "metadata": {},
   "source": [
    "## Table of Contents\n",
    "<ul>\n",
    "<li><a href=\"#intro\">Introduction</a></li>\n",
    "<li><a href=\"#wrangling\">Data Wrangling</a></li>\n",
    "<li><a href=\"#eda\">Exploratory Data Analysis</a></li>\n",
    "<li><a href=\"#conclusions\">Conclusions</a></li>\n",
    "<li><a href=\"#Limitations\">Limitations</a></li>    \n",
    "</ul>"
   ]
  },
  {
   "cell_type": "markdown",
   "metadata": {},
   "source": [
    "<a id= 'intro'></a>\n",
    "## Introduction\n",
    "\n",
    ">  This data set contains information about 10866 movies collected with 21 features from The Movie Database (TMDb), including user ratings and revenue.\n",
    "\n",
    ">**The features consists:**\n",
    ">1. id                      \n",
    ">2. imdb_id                 \n",
    ">3. popularity              \n",
    ">4. budget                  \n",
    ">5. revenue                 \n",
    ">6. original_title          \n",
    ">7. cast                    \n",
    ">8. homepage                \n",
    ">9. director                \n",
    ">10. tagline                 \n",
    ">11. keywords                \n",
    ">12. overview                \n",
    ">13. runtime                 \n",
    ">14. genres                  \n",
    ">15. production_companies    \n",
    ">16. release_date            \n",
    ">17. vote_count              \n",
    ">18. vote_average            \n",
    ">19. release_year            \n",
    ">20. budget_adj              \n",
    ">21. revenue_adj  \n",
    "\n"
   ]
  },
  {
   "cell_type": "markdown",
   "metadata": {},
   "source": [
    "## Question\n",
    "\n",
    "1. The year with highest release of movies\n",
    "2. Genre with Highest Movies Release\n",
    "3. The most casted Actor in a movie\n",
    "4. Director with highest number of Movies\n",
    "5. The highest Production Company with a movie\n",
    "6. Movies with highest and least Profit Earned \n",
    "7. Movies with highest and least revenue\n",
    "8. Movies with largest and lowest budgets\n",
    "9. Movies with longest and shortest runtime\n",
    "10. Average runtime, budget and revenue of all movies\n",
    "11. Profit Earned over the year\n",
    "12. The budget and revenue over the year"
   ]
  },
  {
   "cell_type": "code",
   "execution_count": 1,
   "metadata": {},
   "outputs": [],
   "source": [
    "# Use this cell to set up import statements for all of the packages that you\n",
    "#   plan to use.\n",
    "\n",
    "# Remember to include a 'magic word' so that your visualizations are plotted\n",
    "#   inline with the notebook. See this page for more:\n",
    "#   http://ipython.readthedocs.io/en/stable/interactive/magics.html\n"
   ]
  },
  {
   "cell_type": "code",
   "execution_count": 2,
   "metadata": {},
   "outputs": [],
   "source": [
    "# Import some important files\n",
    "\n",
    "import numpy as np\n",
    "import pandas as pd\n",
    "\n",
    "from datetime import datetime\n",
    "import matplotlib.pyplot as plt\n",
    "import seaborn as sb\n"
   ]
  },
  {
   "cell_type": "markdown",
   "metadata": {},
   "source": [
    "<a id='wrangling'></a>\n",
    "## Data Wrangling\n",
    "\n",
    ">  cleaning and unifying messy and complex data sets for easy access and analysis.\n",
    ">> I will change some data format, drop some feature\n",
    "\n",
    "### General Properties"
   ]
  },
  {
   "cell_type": "code",
   "execution_count": 3,
   "metadata": {},
   "outputs": [
    {
     "data": {
      "text/html": [
       "<div>\n",
       "<style scoped>\n",
       "    .dataframe tbody tr th:only-of-type {\n",
       "        vertical-align: middle;\n",
       "    }\n",
       "\n",
       "    .dataframe tbody tr th {\n",
       "        vertical-align: top;\n",
       "    }\n",
       "\n",
       "    .dataframe thead th {\n",
       "        text-align: right;\n",
       "    }\n",
       "</style>\n",
       "<table border=\"1\" class=\"dataframe\">\n",
       "  <thead>\n",
       "    <tr style=\"text-align: right;\">\n",
       "      <th></th>\n",
       "      <th>id</th>\n",
       "      <th>imdb_id</th>\n",
       "      <th>popularity</th>\n",
       "      <th>budget</th>\n",
       "      <th>revenue</th>\n",
       "      <th>original_title</th>\n",
       "      <th>cast</th>\n",
       "      <th>homepage</th>\n",
       "      <th>director</th>\n",
       "      <th>tagline</th>\n",
       "      <th>...</th>\n",
       "      <th>overview</th>\n",
       "      <th>runtime</th>\n",
       "      <th>genres</th>\n",
       "      <th>production_companies</th>\n",
       "      <th>release_date</th>\n",
       "      <th>vote_count</th>\n",
       "      <th>vote_average</th>\n",
       "      <th>release_year</th>\n",
       "      <th>budget_adj</th>\n",
       "      <th>revenue_adj</th>\n",
       "    </tr>\n",
       "  </thead>\n",
       "  <tbody>\n",
       "    <tr>\n",
       "      <th>0</th>\n",
       "      <td>135397</td>\n",
       "      <td>tt0369610</td>\n",
       "      <td>32.985763</td>\n",
       "      <td>150000000</td>\n",
       "      <td>1513528810</td>\n",
       "      <td>Jurassic World</td>\n",
       "      <td>Chris Pratt|Bryce Dallas Howard|Irrfan Khan|Vi...</td>\n",
       "      <td>http://www.jurassicworld.com/</td>\n",
       "      <td>Colin Trevorrow</td>\n",
       "      <td>The park is open.</td>\n",
       "      <td>...</td>\n",
       "      <td>Twenty-two years after the events of Jurassic ...</td>\n",
       "      <td>124</td>\n",
       "      <td>Action|Adventure|Science Fiction|Thriller</td>\n",
       "      <td>Universal Studios|Amblin Entertainment|Legenda...</td>\n",
       "      <td>6/9/15</td>\n",
       "      <td>5562</td>\n",
       "      <td>6.5</td>\n",
       "      <td>2015</td>\n",
       "      <td>1.379999e+08</td>\n",
       "      <td>1.392446e+09</td>\n",
       "    </tr>\n",
       "    <tr>\n",
       "      <th>1</th>\n",
       "      <td>76341</td>\n",
       "      <td>tt1392190</td>\n",
       "      <td>28.419936</td>\n",
       "      <td>150000000</td>\n",
       "      <td>378436354</td>\n",
       "      <td>Mad Max: Fury Road</td>\n",
       "      <td>Tom Hardy|Charlize Theron|Hugh Keays-Byrne|Nic...</td>\n",
       "      <td>http://www.madmaxmovie.com/</td>\n",
       "      <td>George Miller</td>\n",
       "      <td>What a Lovely Day.</td>\n",
       "      <td>...</td>\n",
       "      <td>An apocalyptic story set in the furthest reach...</td>\n",
       "      <td>120</td>\n",
       "      <td>Action|Adventure|Science Fiction|Thriller</td>\n",
       "      <td>Village Roadshow Pictures|Kennedy Miller Produ...</td>\n",
       "      <td>5/13/15</td>\n",
       "      <td>6185</td>\n",
       "      <td>7.1</td>\n",
       "      <td>2015</td>\n",
       "      <td>1.379999e+08</td>\n",
       "      <td>3.481613e+08</td>\n",
       "    </tr>\n",
       "    <tr>\n",
       "      <th>2</th>\n",
       "      <td>262500</td>\n",
       "      <td>tt2908446</td>\n",
       "      <td>13.112507</td>\n",
       "      <td>110000000</td>\n",
       "      <td>295238201</td>\n",
       "      <td>Insurgent</td>\n",
       "      <td>Shailene Woodley|Theo James|Kate Winslet|Ansel...</td>\n",
       "      <td>http://www.thedivergentseries.movie/#insurgent</td>\n",
       "      <td>Robert Schwentke</td>\n",
       "      <td>One Choice Can Destroy You</td>\n",
       "      <td>...</td>\n",
       "      <td>Beatrice Prior must confront her inner demons ...</td>\n",
       "      <td>119</td>\n",
       "      <td>Adventure|Science Fiction|Thriller</td>\n",
       "      <td>Summit Entertainment|Mandeville Films|Red Wago...</td>\n",
       "      <td>3/18/15</td>\n",
       "      <td>2480</td>\n",
       "      <td>6.3</td>\n",
       "      <td>2015</td>\n",
       "      <td>1.012000e+08</td>\n",
       "      <td>2.716190e+08</td>\n",
       "    </tr>\n",
       "    <tr>\n",
       "      <th>3</th>\n",
       "      <td>140607</td>\n",
       "      <td>tt2488496</td>\n",
       "      <td>11.173104</td>\n",
       "      <td>200000000</td>\n",
       "      <td>2068178225</td>\n",
       "      <td>Star Wars: The Force Awakens</td>\n",
       "      <td>Harrison Ford|Mark Hamill|Carrie Fisher|Adam D...</td>\n",
       "      <td>http://www.starwars.com/films/star-wars-episod...</td>\n",
       "      <td>J.J. Abrams</td>\n",
       "      <td>Every generation has a story.</td>\n",
       "      <td>...</td>\n",
       "      <td>Thirty years after defeating the Galactic Empi...</td>\n",
       "      <td>136</td>\n",
       "      <td>Action|Adventure|Science Fiction|Fantasy</td>\n",
       "      <td>Lucasfilm|Truenorth Productions|Bad Robot</td>\n",
       "      <td>12/15/15</td>\n",
       "      <td>5292</td>\n",
       "      <td>7.5</td>\n",
       "      <td>2015</td>\n",
       "      <td>1.839999e+08</td>\n",
       "      <td>1.902723e+09</td>\n",
       "    </tr>\n",
       "    <tr>\n",
       "      <th>4</th>\n",
       "      <td>168259</td>\n",
       "      <td>tt2820852</td>\n",
       "      <td>9.335014</td>\n",
       "      <td>190000000</td>\n",
       "      <td>1506249360</td>\n",
       "      <td>Furious 7</td>\n",
       "      <td>Vin Diesel|Paul Walker|Jason Statham|Michelle ...</td>\n",
       "      <td>http://www.furious7.com/</td>\n",
       "      <td>James Wan</td>\n",
       "      <td>Vengeance Hits Home</td>\n",
       "      <td>...</td>\n",
       "      <td>Deckard Shaw seeks revenge against Dominic Tor...</td>\n",
       "      <td>137</td>\n",
       "      <td>Action|Crime|Thriller</td>\n",
       "      <td>Universal Pictures|Original Film|Media Rights ...</td>\n",
       "      <td>4/1/15</td>\n",
       "      <td>2947</td>\n",
       "      <td>7.3</td>\n",
       "      <td>2015</td>\n",
       "      <td>1.747999e+08</td>\n",
       "      <td>1.385749e+09</td>\n",
       "    </tr>\n",
       "  </tbody>\n",
       "</table>\n",
       "<p>5 rows × 21 columns</p>\n",
       "</div>"
      ],
      "text/plain": [
       "       id    imdb_id  popularity     budget     revenue  \\\n",
       "0  135397  tt0369610   32.985763  150000000  1513528810   \n",
       "1   76341  tt1392190   28.419936  150000000   378436354   \n",
       "2  262500  tt2908446   13.112507  110000000   295238201   \n",
       "3  140607  tt2488496   11.173104  200000000  2068178225   \n",
       "4  168259  tt2820852    9.335014  190000000  1506249360   \n",
       "\n",
       "                 original_title  \\\n",
       "0                Jurassic World   \n",
       "1            Mad Max: Fury Road   \n",
       "2                     Insurgent   \n",
       "3  Star Wars: The Force Awakens   \n",
       "4                     Furious 7   \n",
       "\n",
       "                                                cast  \\\n",
       "0  Chris Pratt|Bryce Dallas Howard|Irrfan Khan|Vi...   \n",
       "1  Tom Hardy|Charlize Theron|Hugh Keays-Byrne|Nic...   \n",
       "2  Shailene Woodley|Theo James|Kate Winslet|Ansel...   \n",
       "3  Harrison Ford|Mark Hamill|Carrie Fisher|Adam D...   \n",
       "4  Vin Diesel|Paul Walker|Jason Statham|Michelle ...   \n",
       "\n",
       "                                            homepage          director  \\\n",
       "0                      http://www.jurassicworld.com/   Colin Trevorrow   \n",
       "1                        http://www.madmaxmovie.com/     George Miller   \n",
       "2     http://www.thedivergentseries.movie/#insurgent  Robert Schwentke   \n",
       "3  http://www.starwars.com/films/star-wars-episod...       J.J. Abrams   \n",
       "4                           http://www.furious7.com/         James Wan   \n",
       "\n",
       "                         tagline      ...       \\\n",
       "0              The park is open.      ...        \n",
       "1             What a Lovely Day.      ...        \n",
       "2     One Choice Can Destroy You      ...        \n",
       "3  Every generation has a story.      ...        \n",
       "4            Vengeance Hits Home      ...        \n",
       "\n",
       "                                            overview runtime  \\\n",
       "0  Twenty-two years after the events of Jurassic ...     124   \n",
       "1  An apocalyptic story set in the furthest reach...     120   \n",
       "2  Beatrice Prior must confront her inner demons ...     119   \n",
       "3  Thirty years after defeating the Galactic Empi...     136   \n",
       "4  Deckard Shaw seeks revenge against Dominic Tor...     137   \n",
       "\n",
       "                                      genres  \\\n",
       "0  Action|Adventure|Science Fiction|Thriller   \n",
       "1  Action|Adventure|Science Fiction|Thriller   \n",
       "2         Adventure|Science Fiction|Thriller   \n",
       "3   Action|Adventure|Science Fiction|Fantasy   \n",
       "4                      Action|Crime|Thriller   \n",
       "\n",
       "                                production_companies release_date vote_count  \\\n",
       "0  Universal Studios|Amblin Entertainment|Legenda...       6/9/15       5562   \n",
       "1  Village Roadshow Pictures|Kennedy Miller Produ...      5/13/15       6185   \n",
       "2  Summit Entertainment|Mandeville Films|Red Wago...      3/18/15       2480   \n",
       "3          Lucasfilm|Truenorth Productions|Bad Robot     12/15/15       5292   \n",
       "4  Universal Pictures|Original Film|Media Rights ...       4/1/15       2947   \n",
       "\n",
       "   vote_average  release_year    budget_adj   revenue_adj  \n",
       "0           6.5          2015  1.379999e+08  1.392446e+09  \n",
       "1           7.1          2015  1.379999e+08  3.481613e+08  \n",
       "2           6.3          2015  1.012000e+08  2.716190e+08  \n",
       "3           7.5          2015  1.839999e+08  1.902723e+09  \n",
       "4           7.3          2015  1.747999e+08  1.385749e+09  \n",
       "\n",
       "[5 rows x 21 columns]"
      ]
     },
     "execution_count": 3,
     "metadata": {},
     "output_type": "execute_result"
    }
   ],
   "source": [
    "# Load your data and print out a few lines. Perform operations to inspect data\n",
    "#   types and look for instances of missing or possibly errant data.\n",
    "df_tmdb_movies = pd.read_csv('Database_TMDb_movie_data/tmdb-movies.csv')\n",
    "df_tmdb_movies.head()"
   ]
  },
  {
   "cell_type": "code",
   "execution_count": 4,
   "metadata": {},
   "outputs": [
    {
     "name": "stdout",
     "output_type": "stream",
     "text": [
      "<class 'pandas.core.frame.DataFrame'>\n",
      "RangeIndex: 10866 entries, 0 to 10865\n",
      "Data columns (total 21 columns):\n",
      "id                      10866 non-null int64\n",
      "imdb_id                 10856 non-null object\n",
      "popularity              10866 non-null float64\n",
      "budget                  10866 non-null int64\n",
      "revenue                 10866 non-null int64\n",
      "original_title          10866 non-null object\n",
      "cast                    10790 non-null object\n",
      "homepage                2936 non-null object\n",
      "director                10822 non-null object\n",
      "tagline                 8042 non-null object\n",
      "keywords                9373 non-null object\n",
      "overview                10862 non-null object\n",
      "runtime                 10866 non-null int64\n",
      "genres                  10843 non-null object\n",
      "production_companies    9836 non-null object\n",
      "release_date            10866 non-null object\n",
      "vote_count              10866 non-null int64\n",
      "vote_average            10866 non-null float64\n",
      "release_year            10866 non-null int64\n",
      "budget_adj              10866 non-null float64\n",
      "revenue_adj             10866 non-null float64\n",
      "dtypes: float64(4), int64(6), object(11)\n",
      "memory usage: 1.7+ MB\n"
     ]
    }
   ],
   "source": [
    "# The Movie Database information\n",
    "\n",
    "df_tmdb_movies.info()"
   ]
  },
  {
   "cell_type": "code",
   "execution_count": 5,
   "metadata": {},
   "outputs": [
    {
     "data": {
      "text/html": [
       "<div>\n",
       "<style scoped>\n",
       "    .dataframe tbody tr th:only-of-type {\n",
       "        vertical-align: middle;\n",
       "    }\n",
       "\n",
       "    .dataframe tbody tr th {\n",
       "        vertical-align: top;\n",
       "    }\n",
       "\n",
       "    .dataframe thead th {\n",
       "        text-align: right;\n",
       "    }\n",
       "</style>\n",
       "<table border=\"1\" class=\"dataframe\">\n",
       "  <thead>\n",
       "    <tr style=\"text-align: right;\">\n",
       "      <th></th>\n",
       "      <th>id</th>\n",
       "      <th>popularity</th>\n",
       "      <th>budget</th>\n",
       "      <th>revenue</th>\n",
       "      <th>runtime</th>\n",
       "      <th>vote_count</th>\n",
       "      <th>vote_average</th>\n",
       "      <th>release_year</th>\n",
       "      <th>budget_adj</th>\n",
       "      <th>revenue_adj</th>\n",
       "    </tr>\n",
       "  </thead>\n",
       "  <tbody>\n",
       "    <tr>\n",
       "      <th>count</th>\n",
       "      <td>10866.000000</td>\n",
       "      <td>10866.000000</td>\n",
       "      <td>1.086600e+04</td>\n",
       "      <td>1.086600e+04</td>\n",
       "      <td>10866.000000</td>\n",
       "      <td>10866.000000</td>\n",
       "      <td>10866.000000</td>\n",
       "      <td>10866.000000</td>\n",
       "      <td>1.086600e+04</td>\n",
       "      <td>1.086600e+04</td>\n",
       "    </tr>\n",
       "    <tr>\n",
       "      <th>mean</th>\n",
       "      <td>66064.177434</td>\n",
       "      <td>0.646441</td>\n",
       "      <td>1.462570e+07</td>\n",
       "      <td>3.982332e+07</td>\n",
       "      <td>102.070863</td>\n",
       "      <td>217.389748</td>\n",
       "      <td>5.974922</td>\n",
       "      <td>2001.322658</td>\n",
       "      <td>1.755104e+07</td>\n",
       "      <td>5.136436e+07</td>\n",
       "    </tr>\n",
       "    <tr>\n",
       "      <th>std</th>\n",
       "      <td>92130.136561</td>\n",
       "      <td>1.000185</td>\n",
       "      <td>3.091321e+07</td>\n",
       "      <td>1.170035e+08</td>\n",
       "      <td>31.381405</td>\n",
       "      <td>575.619058</td>\n",
       "      <td>0.935142</td>\n",
       "      <td>12.812941</td>\n",
       "      <td>3.430616e+07</td>\n",
       "      <td>1.446325e+08</td>\n",
       "    </tr>\n",
       "    <tr>\n",
       "      <th>min</th>\n",
       "      <td>5.000000</td>\n",
       "      <td>0.000065</td>\n",
       "      <td>0.000000e+00</td>\n",
       "      <td>0.000000e+00</td>\n",
       "      <td>0.000000</td>\n",
       "      <td>10.000000</td>\n",
       "      <td>1.500000</td>\n",
       "      <td>1960.000000</td>\n",
       "      <td>0.000000e+00</td>\n",
       "      <td>0.000000e+00</td>\n",
       "    </tr>\n",
       "    <tr>\n",
       "      <th>25%</th>\n",
       "      <td>10596.250000</td>\n",
       "      <td>0.207583</td>\n",
       "      <td>0.000000e+00</td>\n",
       "      <td>0.000000e+00</td>\n",
       "      <td>90.000000</td>\n",
       "      <td>17.000000</td>\n",
       "      <td>5.400000</td>\n",
       "      <td>1995.000000</td>\n",
       "      <td>0.000000e+00</td>\n",
       "      <td>0.000000e+00</td>\n",
       "    </tr>\n",
       "    <tr>\n",
       "      <th>50%</th>\n",
       "      <td>20669.000000</td>\n",
       "      <td>0.383856</td>\n",
       "      <td>0.000000e+00</td>\n",
       "      <td>0.000000e+00</td>\n",
       "      <td>99.000000</td>\n",
       "      <td>38.000000</td>\n",
       "      <td>6.000000</td>\n",
       "      <td>2006.000000</td>\n",
       "      <td>0.000000e+00</td>\n",
       "      <td>0.000000e+00</td>\n",
       "    </tr>\n",
       "    <tr>\n",
       "      <th>75%</th>\n",
       "      <td>75610.000000</td>\n",
       "      <td>0.713817</td>\n",
       "      <td>1.500000e+07</td>\n",
       "      <td>2.400000e+07</td>\n",
       "      <td>111.000000</td>\n",
       "      <td>145.750000</td>\n",
       "      <td>6.600000</td>\n",
       "      <td>2011.000000</td>\n",
       "      <td>2.085325e+07</td>\n",
       "      <td>3.369710e+07</td>\n",
       "    </tr>\n",
       "    <tr>\n",
       "      <th>max</th>\n",
       "      <td>417859.000000</td>\n",
       "      <td>32.985763</td>\n",
       "      <td>4.250000e+08</td>\n",
       "      <td>2.781506e+09</td>\n",
       "      <td>900.000000</td>\n",
       "      <td>9767.000000</td>\n",
       "      <td>9.200000</td>\n",
       "      <td>2015.000000</td>\n",
       "      <td>4.250000e+08</td>\n",
       "      <td>2.827124e+09</td>\n",
       "    </tr>\n",
       "  </tbody>\n",
       "</table>\n",
       "</div>"
      ],
      "text/plain": [
       "                  id    popularity        budget       revenue       runtime  \\\n",
       "count   10866.000000  10866.000000  1.086600e+04  1.086600e+04  10866.000000   \n",
       "mean    66064.177434      0.646441  1.462570e+07  3.982332e+07    102.070863   \n",
       "std     92130.136561      1.000185  3.091321e+07  1.170035e+08     31.381405   \n",
       "min         5.000000      0.000065  0.000000e+00  0.000000e+00      0.000000   \n",
       "25%     10596.250000      0.207583  0.000000e+00  0.000000e+00     90.000000   \n",
       "50%     20669.000000      0.383856  0.000000e+00  0.000000e+00     99.000000   \n",
       "75%     75610.000000      0.713817  1.500000e+07  2.400000e+07    111.000000   \n",
       "max    417859.000000     32.985763  4.250000e+08  2.781506e+09    900.000000   \n",
       "\n",
       "         vote_count  vote_average  release_year    budget_adj   revenue_adj  \n",
       "count  10866.000000  10866.000000  10866.000000  1.086600e+04  1.086600e+04  \n",
       "mean     217.389748      5.974922   2001.322658  1.755104e+07  5.136436e+07  \n",
       "std      575.619058      0.935142     12.812941  3.430616e+07  1.446325e+08  \n",
       "min       10.000000      1.500000   1960.000000  0.000000e+00  0.000000e+00  \n",
       "25%       17.000000      5.400000   1995.000000  0.000000e+00  0.000000e+00  \n",
       "50%       38.000000      6.000000   2006.000000  0.000000e+00  0.000000e+00  \n",
       "75%      145.750000      6.600000   2011.000000  2.085325e+07  3.369710e+07  \n",
       "max     9767.000000      9.200000   2015.000000  4.250000e+08  2.827124e+09  "
      ]
     },
     "execution_count": 5,
     "metadata": {},
     "output_type": "execute_result"
    }
   ],
   "source": [
    "# Statistcs analysis\n",
    "df_tmdb_movies.describe()"
   ]
  },
  {
   "cell_type": "markdown",
   "metadata": {},
   "source": [
    ">> Revenue and budget has 0 values and it need to be replace by NAN, removing it can distort the analysis"
   ]
  },
  {
   "cell_type": "markdown",
   "metadata": {},
   "source": [
    "### Data Cleaning (Replace this with more specific notes!)"
   ]
  },
  {
   "cell_type": "code",
   "execution_count": 6,
   "metadata": {},
   "outputs": [
    {
     "data": {
      "text/plain": [
       "(10866, 21)"
      ]
     },
     "execution_count": 6,
     "metadata": {},
     "output_type": "execute_result"
    }
   ],
   "source": [
    "#checking the shape of the dataset\n",
    "\n",
    "df_tmdb_movies.shape"
   ]
  },
  {
   "cell_type": "code",
   "execution_count": 7,
   "metadata": {},
   "outputs": [
    {
     "data": {
      "text/plain": [
       "1"
      ]
     },
     "execution_count": 7,
     "metadata": {},
     "output_type": "execute_result"
    }
   ],
   "source": [
    "#check for duplicates rows\n",
    "\n",
    "df_tmdb_movies.duplicated().sum()"
   ]
  },
  {
   "cell_type": "code",
   "execution_count": 8,
   "metadata": {},
   "outputs": [
    {
     "data": {
      "text/plain": [
       "(10865, 21)"
      ]
     },
     "execution_count": 8,
     "metadata": {},
     "output_type": "execute_result"
    }
   ],
   "source": [
    "#Removing duplicated rows\n",
    "\n",
    "df_tmdb_movies.drop_duplicates(keep='first', inplace=True)\n",
    "df_tmdb_movies.shape"
   ]
  },
  {
   "cell_type": "code",
   "execution_count": 9,
   "metadata": {
    "scrolled": true
   },
   "outputs": [
    {
     "name": "stdout",
     "output_type": "stream",
     "text": [
      "<class 'pandas.core.frame.DataFrame'>\n",
      "Int64Index: 10865 entries, 0 to 10865\n",
      "Data columns (total 13 columns):\n",
      "id                      10865 non-null int64\n",
      "popularity              10865 non-null float64\n",
      "budget                  10865 non-null int64\n",
      "revenue                 10865 non-null int64\n",
      "original_title          10865 non-null object\n",
      "cast                    10789 non-null object\n",
      "director                10821 non-null object\n",
      "runtime                 10865 non-null int64\n",
      "genres                  10842 non-null object\n",
      "production_companies    9835 non-null object\n",
      "release_date            10865 non-null object\n",
      "vote_count              10865 non-null int64\n",
      "release_year            10865 non-null int64\n",
      "dtypes: float64(1), int64(6), object(6)\n",
      "memory usage: 1.2+ MB\n"
     ]
    }
   ],
   "source": [
    "#Drop some features that are not needed for analysis\n",
    "df_tmdb_movies.drop(['imdb_id','homepage','tagline', 'keywords', 'overview', 'vote_average', 'budget_adj', 'revenue_adj'],\n",
    "                    axis=1,inplace=True)\n",
    "df_tmdb_movies.info()"
   ]
  },
  {
   "cell_type": "code",
   "execution_count": 10,
   "metadata": {},
   "outputs": [
    {
     "data": {
      "text/html": [
       "<div>\n",
       "<style scoped>\n",
       "    .dataframe tbody tr th:only-of-type {\n",
       "        vertical-align: middle;\n",
       "    }\n",
       "\n",
       "    .dataframe tbody tr th {\n",
       "        vertical-align: top;\n",
       "    }\n",
       "\n",
       "    .dataframe thead th {\n",
       "        text-align: right;\n",
       "    }\n",
       "</style>\n",
       "<table border=\"1\" class=\"dataframe\">\n",
       "  <thead>\n",
       "    <tr style=\"text-align: right;\">\n",
       "      <th></th>\n",
       "      <th>id</th>\n",
       "      <th>popularity</th>\n",
       "      <th>budget</th>\n",
       "      <th>revenue</th>\n",
       "      <th>original_title</th>\n",
       "      <th>cast</th>\n",
       "      <th>director</th>\n",
       "      <th>runtime</th>\n",
       "      <th>genres</th>\n",
       "      <th>production_companies</th>\n",
       "      <th>release_date</th>\n",
       "      <th>vote_count</th>\n",
       "      <th>release_year</th>\n",
       "    </tr>\n",
       "  </thead>\n",
       "  <tbody>\n",
       "    <tr>\n",
       "      <th>0</th>\n",
       "      <td>135397</td>\n",
       "      <td>32.985763</td>\n",
       "      <td>150000000</td>\n",
       "      <td>1513528810</td>\n",
       "      <td>Jurassic World</td>\n",
       "      <td>Chris Pratt|Bryce Dallas Howard|Irrfan Khan|Vi...</td>\n",
       "      <td>Colin Trevorrow</td>\n",
       "      <td>124</td>\n",
       "      <td>Action|Adventure|Science Fiction|Thriller</td>\n",
       "      <td>Universal Studios|Amblin Entertainment|Legenda...</td>\n",
       "      <td>6/9/15</td>\n",
       "      <td>5562</td>\n",
       "      <td>2015</td>\n",
       "    </tr>\n",
       "    <tr>\n",
       "      <th>1</th>\n",
       "      <td>76341</td>\n",
       "      <td>28.419936</td>\n",
       "      <td>150000000</td>\n",
       "      <td>378436354</td>\n",
       "      <td>Mad Max: Fury Road</td>\n",
       "      <td>Tom Hardy|Charlize Theron|Hugh Keays-Byrne|Nic...</td>\n",
       "      <td>George Miller</td>\n",
       "      <td>120</td>\n",
       "      <td>Action|Adventure|Science Fiction|Thriller</td>\n",
       "      <td>Village Roadshow Pictures|Kennedy Miller Produ...</td>\n",
       "      <td>5/13/15</td>\n",
       "      <td>6185</td>\n",
       "      <td>2015</td>\n",
       "    </tr>\n",
       "    <tr>\n",
       "      <th>2</th>\n",
       "      <td>262500</td>\n",
       "      <td>13.112507</td>\n",
       "      <td>110000000</td>\n",
       "      <td>295238201</td>\n",
       "      <td>Insurgent</td>\n",
       "      <td>Shailene Woodley|Theo James|Kate Winslet|Ansel...</td>\n",
       "      <td>Robert Schwentke</td>\n",
       "      <td>119</td>\n",
       "      <td>Adventure|Science Fiction|Thriller</td>\n",
       "      <td>Summit Entertainment|Mandeville Films|Red Wago...</td>\n",
       "      <td>3/18/15</td>\n",
       "      <td>2480</td>\n",
       "      <td>2015</td>\n",
       "    </tr>\n",
       "    <tr>\n",
       "      <th>3</th>\n",
       "      <td>140607</td>\n",
       "      <td>11.173104</td>\n",
       "      <td>200000000</td>\n",
       "      <td>2068178225</td>\n",
       "      <td>Star Wars: The Force Awakens</td>\n",
       "      <td>Harrison Ford|Mark Hamill|Carrie Fisher|Adam D...</td>\n",
       "      <td>J.J. Abrams</td>\n",
       "      <td>136</td>\n",
       "      <td>Action|Adventure|Science Fiction|Fantasy</td>\n",
       "      <td>Lucasfilm|Truenorth Productions|Bad Robot</td>\n",
       "      <td>12/15/15</td>\n",
       "      <td>5292</td>\n",
       "      <td>2015</td>\n",
       "    </tr>\n",
       "    <tr>\n",
       "      <th>4</th>\n",
       "      <td>168259</td>\n",
       "      <td>9.335014</td>\n",
       "      <td>190000000</td>\n",
       "      <td>1506249360</td>\n",
       "      <td>Furious 7</td>\n",
       "      <td>Vin Diesel|Paul Walker|Jason Statham|Michelle ...</td>\n",
       "      <td>James Wan</td>\n",
       "      <td>137</td>\n",
       "      <td>Action|Crime|Thriller</td>\n",
       "      <td>Universal Pictures|Original Film|Media Rights ...</td>\n",
       "      <td>4/1/15</td>\n",
       "      <td>2947</td>\n",
       "      <td>2015</td>\n",
       "    </tr>\n",
       "  </tbody>\n",
       "</table>\n",
       "</div>"
      ],
      "text/plain": [
       "       id  popularity     budget     revenue                original_title  \\\n",
       "0  135397   32.985763  150000000  1513528810                Jurassic World   \n",
       "1   76341   28.419936  150000000   378436354            Mad Max: Fury Road   \n",
       "2  262500   13.112507  110000000   295238201                     Insurgent   \n",
       "3  140607   11.173104  200000000  2068178225  Star Wars: The Force Awakens   \n",
       "4  168259    9.335014  190000000  1506249360                     Furious 7   \n",
       "\n",
       "                                                cast          director  \\\n",
       "0  Chris Pratt|Bryce Dallas Howard|Irrfan Khan|Vi...   Colin Trevorrow   \n",
       "1  Tom Hardy|Charlize Theron|Hugh Keays-Byrne|Nic...     George Miller   \n",
       "2  Shailene Woodley|Theo James|Kate Winslet|Ansel...  Robert Schwentke   \n",
       "3  Harrison Ford|Mark Hamill|Carrie Fisher|Adam D...       J.J. Abrams   \n",
       "4  Vin Diesel|Paul Walker|Jason Statham|Michelle ...         James Wan   \n",
       "\n",
       "   runtime                                     genres  \\\n",
       "0      124  Action|Adventure|Science Fiction|Thriller   \n",
       "1      120  Action|Adventure|Science Fiction|Thriller   \n",
       "2      119         Adventure|Science Fiction|Thriller   \n",
       "3      136   Action|Adventure|Science Fiction|Fantasy   \n",
       "4      137                      Action|Crime|Thriller   \n",
       "\n",
       "                                production_companies release_date  vote_count  \\\n",
       "0  Universal Studios|Amblin Entertainment|Legenda...       6/9/15        5562   \n",
       "1  Village Roadshow Pictures|Kennedy Miller Produ...      5/13/15        6185   \n",
       "2  Summit Entertainment|Mandeville Films|Red Wago...      3/18/15        2480   \n",
       "3          Lucasfilm|Truenorth Productions|Bad Robot     12/15/15        5292   \n",
       "4  Universal Pictures|Original Film|Media Rights ...       4/1/15        2947   \n",
       "\n",
       "   release_year  \n",
       "0          2015  \n",
       "1          2015  \n",
       "2          2015  \n",
       "3          2015  \n",
       "4          2015  "
      ]
     },
     "execution_count": 10,
     "metadata": {},
     "output_type": "execute_result"
    }
   ],
   "source": [
    "df_tmdb_movies.head(5)"
   ]
  },
  {
   "cell_type": "code",
   "execution_count": 11,
   "metadata": {
    "scrolled": true
   },
   "outputs": [
    {
     "data": {
      "text/plain": [
       "id                         0\n",
       "popularity                 0\n",
       "budget                     0\n",
       "revenue                    0\n",
       "original_title             0\n",
       "cast                      76\n",
       "director                  44\n",
       "runtime                    0\n",
       "genres                    23\n",
       "production_companies    1030\n",
       "release_date               0\n",
       "vote_count                 0\n",
       "release_year               0\n",
       "dtype: int64"
      ]
     },
     "execution_count": 11,
     "metadata": {},
     "output_type": "execute_result"
    }
   ],
   "source": [
    "# checking for null values\n",
    "\n",
    "df_tmdb_movies.isna().sum()"
   ]
  },
  {
   "cell_type": "code",
   "execution_count": 12,
   "metadata": {},
   "outputs": [
    {
     "name": "stdout",
     "output_type": "stream",
     "text": [
      "<class 'pandas.core.frame.DataFrame'>\n",
      "Int64Index: 10731 entries, 0 to 10865\n",
      "Data columns (total 13 columns):\n",
      "id                      10731 non-null int64\n",
      "popularity              10731 non-null float64\n",
      "budget                  10731 non-null int64\n",
      "revenue                 10731 non-null int64\n",
      "original_title          10731 non-null object\n",
      "cast                    10731 non-null object\n",
      "director                10731 non-null object\n",
      "runtime                 10731 non-null int64\n",
      "genres                  10731 non-null object\n",
      "production_companies    9772 non-null object\n",
      "release_date            10731 non-null object\n",
      "vote_count              10731 non-null int64\n",
      "release_year            10731 non-null int64\n",
      "dtypes: float64(1), int64(6), object(6)\n",
      "memory usage: 1.1+ MB\n"
     ]
    }
   ],
   "source": [
    "# remove 'cast', 'director', 'genre' null values\n",
    "null_values = ['cast', 'director', 'genres']\n",
    "df_tmdb_movies.dropna(subset = null_values, how='any', inplace=True)\n",
    "\n",
    "df_tmdb_movies.info()"
   ]
  },
  {
   "cell_type": "code",
   "execution_count": 13,
   "metadata": {},
   "outputs": [
    {
     "name": "stdout",
     "output_type": "stream",
     "text": [
      "<class 'pandas.core.frame.DataFrame'>\n",
      "Int64Index: 10731 entries, 0 to 10865\n",
      "Data columns (total 13 columns):\n",
      "id                      10731 non-null int64\n",
      "popularity              10731 non-null float64\n",
      "budget                  5153 non-null float64\n",
      "revenue                 4843 non-null float64\n",
      "original_title          10731 non-null object\n",
      "cast                    10731 non-null object\n",
      "director                10731 non-null object\n",
      "runtime                 10731 non-null int64\n",
      "genres                  10731 non-null object\n",
      "production_companies    9772 non-null object\n",
      "release_date            10731 non-null object\n",
      "vote_count              10731 non-null int64\n",
      "release_year            10731 non-null int64\n",
      "dtypes: float64(3), int64(4), object(6)\n",
      "memory usage: 1.1+ MB\n"
     ]
    }
   ],
   "source": [
    "#replace zero values with null values in the budget and revenue column.\n",
    "df_tmdb_movies['budget'] = df_tmdb_movies['budget'].replace(0, np.NaN)\n",
    "df_tmdb_movies['revenue'] = df_tmdb_movies['revenue'].replace(0, np.NaN)\n",
    "# see if nulls are added in budget and revenue columns\n",
    "df_tmdb_movies.info()"
   ]
  },
  {
   "cell_type": "code",
   "execution_count": 14,
   "metadata": {},
   "outputs": [],
   "source": [
    "# Change the release date\n",
    "\n",
    "df_tmdb_movies.release_date = pd.to_datetime(df_tmdb_movies['release_date'])"
   ]
  },
  {
   "cell_type": "code",
   "execution_count": 15,
   "metadata": {},
   "outputs": [
    {
     "data": {
      "text/html": [
       "<div>\n",
       "<style scoped>\n",
       "    .dataframe tbody tr th:only-of-type {\n",
       "        vertical-align: middle;\n",
       "    }\n",
       "\n",
       "    .dataframe tbody tr th {\n",
       "        vertical-align: top;\n",
       "    }\n",
       "\n",
       "    .dataframe thead th {\n",
       "        text-align: right;\n",
       "    }\n",
       "</style>\n",
       "<table border=\"1\" class=\"dataframe\">\n",
       "  <thead>\n",
       "    <tr style=\"text-align: right;\">\n",
       "      <th></th>\n",
       "      <th>id</th>\n",
       "      <th>popularity</th>\n",
       "      <th>budget</th>\n",
       "      <th>revenue</th>\n",
       "      <th>original_title</th>\n",
       "      <th>cast</th>\n",
       "      <th>director</th>\n",
       "      <th>runtime</th>\n",
       "      <th>genres</th>\n",
       "      <th>production_companies</th>\n",
       "      <th>release_date</th>\n",
       "      <th>vote_count</th>\n",
       "      <th>release_year</th>\n",
       "    </tr>\n",
       "  </thead>\n",
       "  <tbody>\n",
       "    <tr>\n",
       "      <th>0</th>\n",
       "      <td>135397</td>\n",
       "      <td>32.985763</td>\n",
       "      <td>150000000.0</td>\n",
       "      <td>1.513529e+09</td>\n",
       "      <td>Jurassic World</td>\n",
       "      <td>Chris Pratt|Bryce Dallas Howard|Irrfan Khan|Vi...</td>\n",
       "      <td>Colin Trevorrow</td>\n",
       "      <td>124</td>\n",
       "      <td>Action|Adventure|Science Fiction|Thriller</td>\n",
       "      <td>Universal Studios|Amblin Entertainment|Legenda...</td>\n",
       "      <td>2015-06-09</td>\n",
       "      <td>5562</td>\n",
       "      <td>2015</td>\n",
       "    </tr>\n",
       "    <tr>\n",
       "      <th>1</th>\n",
       "      <td>76341</td>\n",
       "      <td>28.419936</td>\n",
       "      <td>150000000.0</td>\n",
       "      <td>3.784364e+08</td>\n",
       "      <td>Mad Max: Fury Road</td>\n",
       "      <td>Tom Hardy|Charlize Theron|Hugh Keays-Byrne|Nic...</td>\n",
       "      <td>George Miller</td>\n",
       "      <td>120</td>\n",
       "      <td>Action|Adventure|Science Fiction|Thriller</td>\n",
       "      <td>Village Roadshow Pictures|Kennedy Miller Produ...</td>\n",
       "      <td>2015-05-13</td>\n",
       "      <td>6185</td>\n",
       "      <td>2015</td>\n",
       "    </tr>\n",
       "    <tr>\n",
       "      <th>2</th>\n",
       "      <td>262500</td>\n",
       "      <td>13.112507</td>\n",
       "      <td>110000000.0</td>\n",
       "      <td>2.952382e+08</td>\n",
       "      <td>Insurgent</td>\n",
       "      <td>Shailene Woodley|Theo James|Kate Winslet|Ansel...</td>\n",
       "      <td>Robert Schwentke</td>\n",
       "      <td>119</td>\n",
       "      <td>Adventure|Science Fiction|Thriller</td>\n",
       "      <td>Summit Entertainment|Mandeville Films|Red Wago...</td>\n",
       "      <td>2015-03-18</td>\n",
       "      <td>2480</td>\n",
       "      <td>2015</td>\n",
       "    </tr>\n",
       "    <tr>\n",
       "      <th>3</th>\n",
       "      <td>140607</td>\n",
       "      <td>11.173104</td>\n",
       "      <td>200000000.0</td>\n",
       "      <td>2.068178e+09</td>\n",
       "      <td>Star Wars: The Force Awakens</td>\n",
       "      <td>Harrison Ford|Mark Hamill|Carrie Fisher|Adam D...</td>\n",
       "      <td>J.J. Abrams</td>\n",
       "      <td>136</td>\n",
       "      <td>Action|Adventure|Science Fiction|Fantasy</td>\n",
       "      <td>Lucasfilm|Truenorth Productions|Bad Robot</td>\n",
       "      <td>2015-12-15</td>\n",
       "      <td>5292</td>\n",
       "      <td>2015</td>\n",
       "    </tr>\n",
       "    <tr>\n",
       "      <th>4</th>\n",
       "      <td>168259</td>\n",
       "      <td>9.335014</td>\n",
       "      <td>190000000.0</td>\n",
       "      <td>1.506249e+09</td>\n",
       "      <td>Furious 7</td>\n",
       "      <td>Vin Diesel|Paul Walker|Jason Statham|Michelle ...</td>\n",
       "      <td>James Wan</td>\n",
       "      <td>137</td>\n",
       "      <td>Action|Crime|Thriller</td>\n",
       "      <td>Universal Pictures|Original Film|Media Rights ...</td>\n",
       "      <td>2015-04-01</td>\n",
       "      <td>2947</td>\n",
       "      <td>2015</td>\n",
       "    </tr>\n",
       "  </tbody>\n",
       "</table>\n",
       "</div>"
      ],
      "text/plain": [
       "       id  popularity       budget       revenue  \\\n",
       "0  135397   32.985763  150000000.0  1.513529e+09   \n",
       "1   76341   28.419936  150000000.0  3.784364e+08   \n",
       "2  262500   13.112507  110000000.0  2.952382e+08   \n",
       "3  140607   11.173104  200000000.0  2.068178e+09   \n",
       "4  168259    9.335014  190000000.0  1.506249e+09   \n",
       "\n",
       "                 original_title  \\\n",
       "0                Jurassic World   \n",
       "1            Mad Max: Fury Road   \n",
       "2                     Insurgent   \n",
       "3  Star Wars: The Force Awakens   \n",
       "4                     Furious 7   \n",
       "\n",
       "                                                cast          director  \\\n",
       "0  Chris Pratt|Bryce Dallas Howard|Irrfan Khan|Vi...   Colin Trevorrow   \n",
       "1  Tom Hardy|Charlize Theron|Hugh Keays-Byrne|Nic...     George Miller   \n",
       "2  Shailene Woodley|Theo James|Kate Winslet|Ansel...  Robert Schwentke   \n",
       "3  Harrison Ford|Mark Hamill|Carrie Fisher|Adam D...       J.J. Abrams   \n",
       "4  Vin Diesel|Paul Walker|Jason Statham|Michelle ...         James Wan   \n",
       "\n",
       "   runtime                                     genres  \\\n",
       "0      124  Action|Adventure|Science Fiction|Thriller   \n",
       "1      120  Action|Adventure|Science Fiction|Thriller   \n",
       "2      119         Adventure|Science Fiction|Thriller   \n",
       "3      136   Action|Adventure|Science Fiction|Fantasy   \n",
       "4      137                      Action|Crime|Thriller   \n",
       "\n",
       "                                production_companies release_date  vote_count  \\\n",
       "0  Universal Studios|Amblin Entertainment|Legenda...   2015-06-09        5562   \n",
       "1  Village Roadshow Pictures|Kennedy Miller Produ...   2015-05-13        6185   \n",
       "2  Summit Entertainment|Mandeville Films|Red Wago...   2015-03-18        2480   \n",
       "3          Lucasfilm|Truenorth Productions|Bad Robot   2015-12-15        5292   \n",
       "4  Universal Pictures|Original Film|Media Rights ...   2015-04-01        2947   \n",
       "\n",
       "   release_year  \n",
       "0          2015  \n",
       "1          2015  \n",
       "2          2015  \n",
       "3          2015  \n",
       "4          2015  "
      ]
     },
     "execution_count": 15,
     "metadata": {},
     "output_type": "execute_result"
    }
   ],
   "source": [
    "# printing the new dataset\n",
    "\n",
    "df_tmdb_movies.head()"
   ]
  },
  {
   "cell_type": "code",
   "execution_count": 16,
   "metadata": {},
   "outputs": [
    {
     "data": {
      "text/plain": [
       "id                               int64\n",
       "popularity                     float64\n",
       "budget                         float64\n",
       "revenue                        float64\n",
       "original_title                  object\n",
       "cast                            object\n",
       "director                        object\n",
       "runtime                          int64\n",
       "genres                          object\n",
       "production_companies            object\n",
       "release_date            datetime64[ns]\n",
       "vote_count                       int64\n",
       "release_year                     int64\n",
       "dtype: object"
      ]
     },
     "execution_count": 16,
     "metadata": {},
     "output_type": "execute_result"
    }
   ],
   "source": [
    "# printing the dataset data type\n",
    "\n",
    "df_tmdb_movies.dtypes"
   ]
  },
  {
   "cell_type": "code",
   "execution_count": 17,
   "metadata": {},
   "outputs": [
    {
     "data": {
      "text/html": [
       "<div>\n",
       "<style scoped>\n",
       "    .dataframe tbody tr th:only-of-type {\n",
       "        vertical-align: middle;\n",
       "    }\n",
       "\n",
       "    .dataframe tbody tr th {\n",
       "        vertical-align: top;\n",
       "    }\n",
       "\n",
       "    .dataframe thead th {\n",
       "        text-align: right;\n",
       "    }\n",
       "</style>\n",
       "<table border=\"1\" class=\"dataframe\">\n",
       "  <thead>\n",
       "    <tr style=\"text-align: right;\">\n",
       "      <th></th>\n",
       "      <th>id</th>\n",
       "      <th>popularity</th>\n",
       "      <th>budget</th>\n",
       "      <th>revenue</th>\n",
       "      <th>runtime</th>\n",
       "      <th>vote_count</th>\n",
       "      <th>release_year</th>\n",
       "    </tr>\n",
       "  </thead>\n",
       "  <tbody>\n",
       "    <tr>\n",
       "      <th>count</th>\n",
       "      <td>10731.000000</td>\n",
       "      <td>10731.000000</td>\n",
       "      <td>5.153000e+03</td>\n",
       "      <td>4.843000e+03</td>\n",
       "      <td>10731.000000</td>\n",
       "      <td>10731.000000</td>\n",
       "      <td>10731.000000</td>\n",
       "    </tr>\n",
       "    <tr>\n",
       "      <th>mean</th>\n",
       "      <td>65201.741869</td>\n",
       "      <td>0.652615</td>\n",
       "      <td>3.082824e+07</td>\n",
       "      <td>8.933981e+07</td>\n",
       "      <td>102.468829</td>\n",
       "      <td>219.812972</td>\n",
       "      <td>2001.259622</td>\n",
       "    </tr>\n",
       "    <tr>\n",
       "      <th>std</th>\n",
       "      <td>91470.508056</td>\n",
       "      <td>1.004804</td>\n",
       "      <td>3.893199e+07</td>\n",
       "      <td>1.621546e+08</td>\n",
       "      <td>30.493873</td>\n",
       "      <td>578.815324</td>\n",
       "      <td>12.820151</td>\n",
       "    </tr>\n",
       "    <tr>\n",
       "      <th>min</th>\n",
       "      <td>5.000000</td>\n",
       "      <td>0.000188</td>\n",
       "      <td>1.000000e+00</td>\n",
       "      <td>2.000000e+00</td>\n",
       "      <td>0.000000</td>\n",
       "      <td>10.000000</td>\n",
       "      <td>1960.000000</td>\n",
       "    </tr>\n",
       "    <tr>\n",
       "      <th>25%</th>\n",
       "      <td>10547.500000</td>\n",
       "      <td>0.210765</td>\n",
       "      <td>6.000000e+06</td>\n",
       "      <td>7.779664e+06</td>\n",
       "      <td>90.000000</td>\n",
       "      <td>17.000000</td>\n",
       "      <td>1995.000000</td>\n",
       "    </tr>\n",
       "    <tr>\n",
       "      <th>50%</th>\n",
       "      <td>20323.000000</td>\n",
       "      <td>0.387081</td>\n",
       "      <td>1.750000e+07</td>\n",
       "      <td>3.191160e+07</td>\n",
       "      <td>99.000000</td>\n",
       "      <td>39.000000</td>\n",
       "      <td>2006.000000</td>\n",
       "    </tr>\n",
       "    <tr>\n",
       "      <th>75%</th>\n",
       "      <td>73948.500000</td>\n",
       "      <td>0.720889</td>\n",
       "      <td>4.000000e+07</td>\n",
       "      <td>1.000000e+08</td>\n",
       "      <td>112.000000</td>\n",
       "      <td>148.000000</td>\n",
       "      <td>2011.000000</td>\n",
       "    </tr>\n",
       "    <tr>\n",
       "      <th>max</th>\n",
       "      <td>417859.000000</td>\n",
       "      <td>32.985763</td>\n",
       "      <td>4.250000e+08</td>\n",
       "      <td>2.781506e+09</td>\n",
       "      <td>900.000000</td>\n",
       "      <td>9767.000000</td>\n",
       "      <td>2015.000000</td>\n",
       "    </tr>\n",
       "  </tbody>\n",
       "</table>\n",
       "</div>"
      ],
      "text/plain": [
       "                  id    popularity        budget       revenue       runtime  \\\n",
       "count   10731.000000  10731.000000  5.153000e+03  4.843000e+03  10731.000000   \n",
       "mean    65201.741869      0.652615  3.082824e+07  8.933981e+07    102.468829   \n",
       "std     91470.508056      1.004804  3.893199e+07  1.621546e+08     30.493873   \n",
       "min         5.000000      0.000188  1.000000e+00  2.000000e+00      0.000000   \n",
       "25%     10547.500000      0.210765  6.000000e+06  7.779664e+06     90.000000   \n",
       "50%     20323.000000      0.387081  1.750000e+07  3.191160e+07     99.000000   \n",
       "75%     73948.500000      0.720889  4.000000e+07  1.000000e+08    112.000000   \n",
       "max    417859.000000     32.985763  4.250000e+08  2.781506e+09    900.000000   \n",
       "\n",
       "         vote_count  release_year  \n",
       "count  10731.000000  10731.000000  \n",
       "mean     219.812972   2001.259622  \n",
       "std      578.815324     12.820151  \n",
       "min       10.000000   1960.000000  \n",
       "25%       17.000000   1995.000000  \n",
       "50%       39.000000   2006.000000  \n",
       "75%      148.000000   2011.000000  \n",
       "max     9767.000000   2015.000000  "
      ]
     },
     "execution_count": 17,
     "metadata": {},
     "output_type": "execute_result"
    }
   ],
   "source": [
    "#Statistics summary\n",
    "df_tmdb_movies.describe()"
   ]
  },
  {
   "cell_type": "markdown",
   "metadata": {},
   "source": [
    "<a id='eda'></a>\n",
    "## Exploratory Data Analysis\n",
    "\n",
    "\n",
    "\n",
    "### 1. The year with highest release of movies"
   ]
  },
  {
   "cell_type": "code",
   "execution_count": 18,
   "metadata": {},
   "outputs": [
    {
     "data": {
      "image/png": "[encoded data removed]",
      "text/plain": [
       "<matplotlib.figure.Figure at 0x7fc6f7833160>"
      ]
     },
     "metadata": {
      "needs_background": "light"
     },
     "output_type": "display_data"
    }
   ],
   "source": [
    "plt.figure(figsize=[15,15])\n",
    "default_color = sb.color_palette()[0]\n",
    "sb.countplot(data=df_tmdb_movies, x='release_year', color=default_color)\n",
    "plt.title('Number of Movies Release per Year',fontsize = 13)\n",
    "plt.xlabel('Release Year')\n",
    "plt.xticks(rotation = 90);"
   ]
  },
  {
   "cell_type": "markdown",
   "metadata": {},
   "source": [
    "> Year 2014 has the highest movies release"
   ]
  },
  {
   "cell_type": "markdown",
   "metadata": {},
   "source": [
    "### 2. Genre with Highest Movies Release\n"
   ]
  },
  {
   "cell_type": "code",
   "execution_count": 19,
   "metadata": {},
   "outputs": [
    {
     "data": {
      "text/plain": [
       "0              Action|Adventure|Science Fiction|Thriller\n",
       "1              Action|Adventure|Science Fiction|Thriller\n",
       "2                     Adventure|Science Fiction|Thriller\n",
       "3               Action|Adventure|Science Fiction|Fantasy\n",
       "4                                  Action|Crime|Thriller\n",
       "5                       Western|Drama|Adventure|Thriller\n",
       "6              Science Fiction|Action|Thriller|Adventure\n",
       "7                        Drama|Adventure|Science Fiction\n",
       "8                      Family|Animation|Adventure|Comedy\n",
       "9                                Comedy|Animation|Family\n",
       "10                                Action|Adventure|Crime\n",
       "11              Science Fiction|Fantasy|Action|Adventure\n",
       "12                                 Drama|Science Fiction\n",
       "13                         Action|Comedy|Science Fiction\n",
       "14                      Action|Adventure|Science Fiction\n",
       "15                           Crime|Drama|Mystery|Western\n",
       "16                                 Crime|Action|Thriller\n",
       "17                      Science Fiction|Action|Adventure\n",
       "18                          Romance|Fantasy|Family|Drama\n",
       "19                         War|Adventure|Science Fiction\n",
       "20       Action|Family|Science Fiction|Adventure|Mystery\n",
       "21                                          Action|Drama\n",
       "22                                 Action|Drama|Thriller\n",
       "23                                         Drama|Romance\n",
       "24                                          Comedy|Drama\n",
       "25                                                Action\n",
       "26                                                Comedy\n",
       "27                         Crime|Comedy|Action|Adventure\n",
       "28                                Drama|Thriller|History\n",
       "29                       Action|Science Fiction|Thriller\n",
       "                              ...                       \n",
       "10836                                     Comedy|Romance\n",
       "10837                         War|Action|Adventure|Drama\n",
       "10838                           Action|Adventure|Western\n",
       "10839                                   Family|Animation\n",
       "10840                                           Thriller\n",
       "10841                                            Western\n",
       "10842                                   Animation|Family\n",
       "10843                 Adventure|Drama|War|History|Action\n",
       "10844           Adventure|Comedy|Fantasy|Science Fiction\n",
       "10845                                     Comedy|Western\n",
       "10846                                             Horror\n",
       "10847                             Science Fiction|Horror\n",
       "10848                          Adventure|Science Fiction\n",
       "10849                                Action|Comedy|Crime\n",
       "10850                Action|Drama|Thriller|Crime|Mystery\n",
       "10851              Adventure|Drama|Action|Family|Foreign\n",
       "10852                                            Western\n",
       "10853                               Comedy|Drama|Romance\n",
       "10854                               Thriller|Drama|Crime\n",
       "10855                      Comedy|Family|Mystery|Romance\n",
       "10856                                Comedy|Drama|Family\n",
       "10857                                     Action|Western\n",
       "10858                                         Comedy|War\n",
       "10859             Mystery|Science Fiction|Thriller|Drama\n",
       "10860                                             Comedy\n",
       "10861                                        Documentary\n",
       "10862                             Action|Adventure|Drama\n",
       "10863                                     Mystery|Comedy\n",
       "10864                                      Action|Comedy\n",
       "10865                                             Horror\n",
       "Name: genres, Length: 10731, dtype: object"
      ]
     },
     "execution_count": 19,
     "metadata": {},
     "output_type": "execute_result"
    }
   ],
   "source": [
    "df_tmdb_movies['genres']"
   ]
  },
  {
   "cell_type": "code",
   "execution_count": 20,
   "metadata": {},
   "outputs": [],
   "source": [
    "# define a function that split the string genre and return count of the genre\n",
    "def string_genre(xVar):\n",
    "    #concat all the rows of the genres.\n",
    "    plot_genre = df_tmdb_movies[xVar].str.cat(sep = '|')\n",
    "    string_genre = pd.Series(plot_genre.split('|'))\n",
    "    #concat each of the genre and return the value count.\n",
    "    count_genre = string_genre.value_counts(ascending=False)\n",
    "    return count_genre"
   ]
  },
  {
   "cell_type": "code",
   "execution_count": 21,
   "metadata": {},
   "outputs": [],
   "source": [
    "all_genres=string_genre('genres')"
   ]
  },
  {
   "cell_type": "code",
   "execution_count": 22,
   "metadata": {},
   "outputs": [
    {
     "data": {
      "image/png": "[encoded data removed]",
      "text/plain": [
       "<matplotlib.figure.Figure at 0x7fc6f7661898>"
      ]
     },
     "metadata": {
      "needs_background": "light"
     },
     "output_type": "display_data"
    }
   ],
   "source": [
    "plt.figure(figsize=[10,10])\n",
    "\n",
    "all_genres.plot(kind='bar',color=['#3274A1'])\n",
    "plt.title('Genre with Highest Movies Release ');\n",
    "plt.xlabel('Genre');\n",
    "plt.ylabel('Movies Count');"
   ]
  },
  {
   "cell_type": "markdown",
   "metadata": {},
   "source": [
    "> Drama genre is the Highest movie release"
   ]
  },
  {
   "cell_type": "markdown",
   "metadata": {},
   "source": [
    "### 3. The most casted Actor in a movie"
   ]
  },
  {
   "cell_type": "code",
   "execution_count": 23,
   "metadata": {
    "scrolled": true
   },
   "outputs": [
    {
     "data": {
      "text/plain": [
       "Robert De Niro        72\n",
       "Samuel L. Jackson     71\n",
       "Bruce Willis          62\n",
       "Nicolas Cage          61\n",
       "Michael Caine         53\n",
       "Robin Williams        51\n",
       "John Cusack           50\n",
       "Morgan Freeman        49\n",
       "John Goodman          49\n",
       "Susan Sarandon        48\n",
       "Liam Neeson           48\n",
       "Julianne Moore        47\n",
       "Alec Baldwin          47\n",
       "Christopher Walken    46\n",
       "Johnny Depp           46\n",
       "dtype: int64"
      ]
     },
     "execution_count": 23,
     "metadata": {},
     "output_type": "execute_result"
    }
   ],
   "source": [
    "string_genre('cast')[:15]"
   ]
  },
  {
   "cell_type": "markdown",
   "metadata": {},
   "source": [
    "> Robert De Niro is the most casted Actor for 72 times"
   ]
  },
  {
   "cell_type": "code",
   "execution_count": 24,
   "metadata": {},
   "outputs": [],
   "source": [
    "all_cast = string_genre('cast')[:15]"
   ]
  },
  {
   "cell_type": "code",
   "execution_count": 25,
   "metadata": {
    "scrolled": false
   },
   "outputs": [
    {
     "data": {
      "image/png": "[encoded data removed]",
      "text/plain": [
       "<matplotlib.figure.Figure at 0x7fc6f77ef7f0>"
      ]
     },
     "metadata": {
      "needs_background": "light"
     },
     "output_type": "display_data"
    }
   ],
   "source": [
    "plt.figure(figsize=[10,10])\n",
    "\n",
    "all_cast.plot(kind='bar',color=['#3274A1'])\n",
    "plt.title('Genre with Highest Movies Release ');\n",
    "plt.xlabel('Genre');\n",
    "plt.ylabel('Movies Count');"
   ]
  },
  {
   "cell_type": "markdown",
   "metadata": {},
   "source": [
    "> Robert De Niro is the most casted Actor"
   ]
  },
  {
   "cell_type": "markdown",
   "metadata": {},
   "source": [
    "### 4. Director with highest number of Movies"
   ]
  },
  {
   "cell_type": "code",
   "execution_count": 26,
   "metadata": {
    "scrolled": false
   },
   "outputs": [
    {
     "data": {
      "text/plain": [
       "Woody Allen             46\n",
       "Clint Eastwood          34\n",
       "Martin Scorsese         30\n",
       "Steven Spielberg        30\n",
       "Steven Soderbergh       23\n",
       "Ridley Scott            23\n",
       "Ron Howard              22\n",
       "Joel Schumacher         21\n",
       "Brian De Palma          20\n",
       "David Cronenberg        19\n",
       "John Carpenter          19\n",
       "Francis Ford Coppola    19\n",
       "Tim Burton              19\n",
       "Barry Levinson          19\n",
       "Robert Rodriguez        19\n",
       "dtype: int64"
      ]
     },
     "execution_count": 26,
     "metadata": {},
     "output_type": "execute_result"
    }
   ],
   "source": [
    "string_genre('director')[:15]"
   ]
  },
  {
   "cell_type": "markdown",
   "metadata": {},
   "source": [
    ">Woody Allen is the Director that dirct the highest number of movies; 46 times"
   ]
  },
  {
   "cell_type": "code",
   "execution_count": 27,
   "metadata": {},
   "outputs": [],
   "source": [
    "all_dirc=string_genre('director')[:15]"
   ]
  },
  {
   "cell_type": "code",
   "execution_count": 28,
   "metadata": {
    "scrolled": true
   },
   "outputs": [
    {
     "data": {
      "image/png": "[encoded data removed]",
      "text/plain": [
       "<matplotlib.figure.Figure at 0x7fc6f7303d30>"
      ]
     },
     "metadata": {
      "needs_background": "light"
     },
     "output_type": "display_data"
    }
   ],
   "source": [
    "plt.figure(figsize=[10,10])\n",
    "\n",
    "all_dirc.plot(kind='bar',color=['#3274A1'])\n",
    "plt.title('Director with highest movie ');\n",
    "plt.xlabel('Director');\n",
    "plt.ylabel('Movies Count');"
   ]
  },
  {
   "cell_type": "markdown",
   "metadata": {},
   "source": [
    ">> Woody Allen direct the highest number of Movies"
   ]
  },
  {
   "cell_type": "markdown",
   "metadata": {},
   "source": [
    "### 5. The highest Production Company with a movie"
   ]
  },
  {
   "cell_type": "code",
   "execution_count": 29,
   "metadata": {
    "scrolled": true
   },
   "outputs": [
    {
     "data": {
      "text/plain": [
       "Universal Pictures                        522\n",
       "Warner Bros.                              509\n",
       "Paramount Pictures                        431\n",
       "Twentieth Century Fox Film Corporation    282\n",
       "Columbia Pictures                         272\n",
       "New Line Cinema                           219\n",
       "Metro-Goldwyn-Mayer (MGM)                 218\n",
       "Walt Disney Pictures                      213\n",
       "Touchstone Pictures                       178\n",
       "Columbia Pictures Corporation             160\n",
       "TriStar Pictures                          147\n",
       "Miramax Films                             139\n",
       "Relativity Media                          108\n",
       "Regency Enterprises                        95\n",
       "Canal+                                     92\n",
       "dtype: int64"
      ]
     },
     "execution_count": 29,
     "metadata": {},
     "output_type": "execute_result"
    }
   ],
   "source": [
    "string_genre('production_companies')[:15]"
   ]
  },
  {
   "cell_type": "markdown",
   "metadata": {},
   "source": [
    "> Universal Pictures produce the most movies; 522 Movies"
   ]
  },
  {
   "cell_type": "code",
   "execution_count": 30,
   "metadata": {},
   "outputs": [],
   "source": [
    "all_prod_comp = string_genre('production_companies')[:15]"
   ]
  },
  {
   "cell_type": "code",
   "execution_count": 31,
   "metadata": {},
   "outputs": [
    {
     "data": {
      "image/png": "[encoded data removed]",
      "text/plain": [
       "<matplotlib.figure.Figure at 0x7fc6f7037fd0>"
      ]
     },
     "metadata": {
      "needs_background": "light"
     },
     "output_type": "display_data"
    }
   ],
   "source": [
    "plt.figure(figsize=[10,10])\n",
    "\n",
    "all_prod_comp.plot(kind='bar',color=['#3274A1'])\n",
    "plt.title('Distribution of Production Companies per Movies ');\n",
    "plt.xlabel('Production company');\n",
    "plt.ylabel('Movies Count');"
   ]
  },
  {
   "cell_type": "markdown",
   "metadata": {},
   "source": [
    "> > Universal Pictures produce the highest movies"
   ]
  },
  {
   "cell_type": "code",
   "execution_count": 32,
   "metadata": {
    "scrolled": false
   },
   "outputs": [
    {
     "data": {
      "text/html": [
       "<div>\n",
       "<style scoped>\n",
       "    .dataframe tbody tr th:only-of-type {\n",
       "        vertical-align: middle;\n",
       "    }\n",
       "\n",
       "    .dataframe tbody tr th {\n",
       "        vertical-align: top;\n",
       "    }\n",
       "\n",
       "    .dataframe thead th {\n",
       "        text-align: right;\n",
       "    }\n",
       "</style>\n",
       "<table border=\"1\" class=\"dataframe\">\n",
       "  <thead>\n",
       "    <tr style=\"text-align: right;\">\n",
       "      <th></th>\n",
       "      <th>id</th>\n",
       "      <th>popularity</th>\n",
       "      <th>budget</th>\n",
       "      <th>revenue</th>\n",
       "      <th>profit_earned</th>\n",
       "      <th>original_title</th>\n",
       "      <th>cast</th>\n",
       "      <th>director</th>\n",
       "      <th>runtime</th>\n",
       "      <th>genres</th>\n",
       "      <th>production_companies</th>\n",
       "      <th>release_date</th>\n",
       "      <th>vote_count</th>\n",
       "      <th>release_year</th>\n",
       "    </tr>\n",
       "  </thead>\n",
       "  <tbody>\n",
       "    <tr>\n",
       "      <th>0</th>\n",
       "      <td>135397</td>\n",
       "      <td>32.985763</td>\n",
       "      <td>150000000.0</td>\n",
       "      <td>1.513529e+09</td>\n",
       "      <td>1.363529e+09</td>\n",
       "      <td>Jurassic World</td>\n",
       "      <td>Chris Pratt|Bryce Dallas Howard|Irrfan Khan|Vi...</td>\n",
       "      <td>Colin Trevorrow</td>\n",
       "      <td>124</td>\n",
       "      <td>Action|Adventure|Science Fiction|Thriller</td>\n",
       "      <td>Universal Studios|Amblin Entertainment|Legenda...</td>\n",
       "      <td>2015-06-09</td>\n",
       "      <td>5562</td>\n",
       "      <td>2015</td>\n",
       "    </tr>\n",
       "    <tr>\n",
       "      <th>1</th>\n",
       "      <td>76341</td>\n",
       "      <td>28.419936</td>\n",
       "      <td>150000000.0</td>\n",
       "      <td>3.784364e+08</td>\n",
       "      <td>2.284364e+08</td>\n",
       "      <td>Mad Max: Fury Road</td>\n",
       "      <td>Tom Hardy|Charlize Theron|Hugh Keays-Byrne|Nic...</td>\n",
       "      <td>George Miller</td>\n",
       "      <td>120</td>\n",
       "      <td>Action|Adventure|Science Fiction|Thriller</td>\n",
       "      <td>Village Roadshow Pictures|Kennedy Miller Produ...</td>\n",
       "      <td>2015-05-13</td>\n",
       "      <td>6185</td>\n",
       "      <td>2015</td>\n",
       "    </tr>\n",
       "    <tr>\n",
       "      <th>2</th>\n",
       "      <td>262500</td>\n",
       "      <td>13.112507</td>\n",
       "      <td>110000000.0</td>\n",
       "      <td>2.952382e+08</td>\n",
       "      <td>1.852382e+08</td>\n",
       "      <td>Insurgent</td>\n",
       "      <td>Shailene Woodley|Theo James|Kate Winslet|Ansel...</td>\n",
       "      <td>Robert Schwentke</td>\n",
       "      <td>119</td>\n",
       "      <td>Adventure|Science Fiction|Thriller</td>\n",
       "      <td>Summit Entertainment|Mandeville Films|Red Wago...</td>\n",
       "      <td>2015-03-18</td>\n",
       "      <td>2480</td>\n",
       "      <td>2015</td>\n",
       "    </tr>\n",
       "    <tr>\n",
       "      <th>3</th>\n",
       "      <td>140607</td>\n",
       "      <td>11.173104</td>\n",
       "      <td>200000000.0</td>\n",
       "      <td>2.068178e+09</td>\n",
       "      <td>1.868178e+09</td>\n",
       "      <td>Star Wars: The Force Awakens</td>\n",
       "      <td>Harrison Ford|Mark Hamill|Carrie Fisher|Adam D...</td>\n",
       "      <td>J.J. Abrams</td>\n",
       "      <td>136</td>\n",
       "      <td>Action|Adventure|Science Fiction|Fantasy</td>\n",
       "      <td>Lucasfilm|Truenorth Productions|Bad Robot</td>\n",
       "      <td>2015-12-15</td>\n",
       "      <td>5292</td>\n",
       "      <td>2015</td>\n",
       "    </tr>\n",
       "    <tr>\n",
       "      <th>4</th>\n",
       "      <td>168259</td>\n",
       "      <td>9.335014</td>\n",
       "      <td>190000000.0</td>\n",
       "      <td>1.506249e+09</td>\n",
       "      <td>1.316249e+09</td>\n",
       "      <td>Furious 7</td>\n",
       "      <td>Vin Diesel|Paul Walker|Jason Statham|Michelle ...</td>\n",
       "      <td>James Wan</td>\n",
       "      <td>137</td>\n",
       "      <td>Action|Crime|Thriller</td>\n",
       "      <td>Universal Pictures|Original Film|Media Rights ...</td>\n",
       "      <td>2015-04-01</td>\n",
       "      <td>2947</td>\n",
       "      <td>2015</td>\n",
       "    </tr>\n",
       "  </tbody>\n",
       "</table>\n",
       "</div>"
      ],
      "text/plain": [
       "       id  popularity       budget       revenue  profit_earned  \\\n",
       "0  135397   32.985763  150000000.0  1.513529e+09   1.363529e+09   \n",
       "1   76341   28.419936  150000000.0  3.784364e+08   2.284364e+08   \n",
       "2  262500   13.112507  110000000.0  2.952382e+08   1.852382e+08   \n",
       "3  140607   11.173104  200000000.0  2.068178e+09   1.868178e+09   \n",
       "4  168259    9.335014  190000000.0  1.506249e+09   1.316249e+09   \n",
       "\n",
       "                 original_title  \\\n",
       "0                Jurassic World   \n",
       "1            Mad Max: Fury Road   \n",
       "2                     Insurgent   \n",
       "3  Star Wars: The Force Awakens   \n",
       "4                     Furious 7   \n",
       "\n",
       "                                                cast          director  \\\n",
       "0  Chris Pratt|Bryce Dallas Howard|Irrfan Khan|Vi...   Colin Trevorrow   \n",
       "1  Tom Hardy|Charlize Theron|Hugh Keays-Byrne|Nic...     George Miller   \n",
       "2  Shailene Woodley|Theo James|Kate Winslet|Ansel...  Robert Schwentke   \n",
       "3  Harrison Ford|Mark Hamill|Carrie Fisher|Adam D...       J.J. Abrams   \n",
       "4  Vin Diesel|Paul Walker|Jason Statham|Michelle ...         James Wan   \n",
       "\n",
       "   runtime                                     genres  \\\n",
       "0      124  Action|Adventure|Science Fiction|Thriller   \n",
       "1      120  Action|Adventure|Science Fiction|Thriller   \n",
       "2      119         Adventure|Science Fiction|Thriller   \n",
       "3      136   Action|Adventure|Science Fiction|Fantasy   \n",
       "4      137                      Action|Crime|Thriller   \n",
       "\n",
       "                                production_companies release_date  vote_count  \\\n",
       "0  Universal Studios|Amblin Entertainment|Legenda...   2015-06-09        5562   \n",
       "1  Village Roadshow Pictures|Kennedy Miller Produ...   2015-05-13        6185   \n",
       "2  Summit Entertainment|Mandeville Films|Red Wago...   2015-03-18        2480   \n",
       "3          Lucasfilm|Truenorth Productions|Bad Robot   2015-12-15        5292   \n",
       "4  Universal Pictures|Original Film|Media Rights ...   2015-04-01        2947   \n",
       "\n",
       "   release_year  \n",
       "0          2015  \n",
       "1          2015  \n",
       "2          2015  \n",
       "3          2015  \n",
       "4          2015  "
      ]
     },
     "execution_count": 32,
     "metadata": {},
     "output_type": "execute_result"
    }
   ],
   "source": [
    "#insert function with three parameters(index of the column in the dmdb movies dataset, \n",
    "#name of the column, value to be inserted)\n",
    "df_tmdb_movies.insert(4,'profit_earned',df_tmdb_movies['revenue'] - df_tmdb_movies['budget'])\n",
    "\n",
    "#showing the changes in the dataset\n",
    "df_tmdb_movies.head()"
   ]
  },
  {
   "cell_type": "code",
   "execution_count": 33,
   "metadata": {
    "scrolled": false
   },
   "outputs": [
    {
     "data": {
      "text/html": [
       "<div>\n",
       "<style scoped>\n",
       "    .dataframe tbody tr th:only-of-type {\n",
       "        vertical-align: middle;\n",
       "    }\n",
       "\n",
       "    .dataframe tbody tr th {\n",
       "        vertical-align: top;\n",
       "    }\n",
       "\n",
       "    .dataframe thead th {\n",
       "        text-align: right;\n",
       "    }\n",
       "</style>\n",
       "<table border=\"1\" class=\"dataframe\">\n",
       "  <thead>\n",
       "    <tr style=\"text-align: right;\">\n",
       "      <th></th>\n",
       "      <th>id</th>\n",
       "      <th>popularity</th>\n",
       "      <th>budget</th>\n",
       "      <th>revenue</th>\n",
       "      <th>profit_earned</th>\n",
       "      <th>runtime</th>\n",
       "      <th>vote_count</th>\n",
       "      <th>release_year</th>\n",
       "    </tr>\n",
       "  </thead>\n",
       "  <tbody>\n",
       "    <tr>\n",
       "      <th>count</th>\n",
       "      <td>10731.000000</td>\n",
       "      <td>10731.000000</td>\n",
       "      <td>5.153000e+03</td>\n",
       "      <td>4.843000e+03</td>\n",
       "      <td>3.849000e+03</td>\n",
       "      <td>10731.000000</td>\n",
       "      <td>10731.000000</td>\n",
       "      <td>10731.000000</td>\n",
       "    </tr>\n",
       "    <tr>\n",
       "      <th>mean</th>\n",
       "      <td>65201.741869</td>\n",
       "      <td>0.652615</td>\n",
       "      <td>3.082824e+07</td>\n",
       "      <td>8.933981e+07</td>\n",
       "      <td>7.056595e+07</td>\n",
       "      <td>102.468829</td>\n",
       "      <td>219.812972</td>\n",
       "      <td>2001.259622</td>\n",
       "    </tr>\n",
       "    <tr>\n",
       "      <th>std</th>\n",
       "      <td>91470.508056</td>\n",
       "      <td>1.004804</td>\n",
       "      <td>3.893199e+07</td>\n",
       "      <td>1.621546e+08</td>\n",
       "      <td>1.506990e+08</td>\n",
       "      <td>30.493873</td>\n",
       "      <td>578.815324</td>\n",
       "      <td>12.820151</td>\n",
       "    </tr>\n",
       "    <tr>\n",
       "      <th>min</th>\n",
       "      <td>5.000000</td>\n",
       "      <td>0.000188</td>\n",
       "      <td>1.000000e+00</td>\n",
       "      <td>2.000000e+00</td>\n",
       "      <td>-4.139124e+08</td>\n",
       "      <td>0.000000</td>\n",
       "      <td>10.000000</td>\n",
       "      <td>1960.000000</td>\n",
       "    </tr>\n",
       "    <tr>\n",
       "      <th>25%</th>\n",
       "      <td>10547.500000</td>\n",
       "      <td>0.210765</td>\n",
       "      <td>6.000000e+06</td>\n",
       "      <td>7.779664e+06</td>\n",
       "      <td>-1.312284e+06</td>\n",
       "      <td>90.000000</td>\n",
       "      <td>17.000000</td>\n",
       "      <td>1995.000000</td>\n",
       "    </tr>\n",
       "    <tr>\n",
       "      <th>50%</th>\n",
       "      <td>20323.000000</td>\n",
       "      <td>0.387081</td>\n",
       "      <td>1.750000e+07</td>\n",
       "      <td>3.191160e+07</td>\n",
       "      <td>2.014450e+07</td>\n",
       "      <td>99.000000</td>\n",
       "      <td>39.000000</td>\n",
       "      <td>2006.000000</td>\n",
       "    </tr>\n",
       "    <tr>\n",
       "      <th>75%</th>\n",
       "      <td>73948.500000</td>\n",
       "      <td>0.720889</td>\n",
       "      <td>4.000000e+07</td>\n",
       "      <td>1.000000e+08</td>\n",
       "      <td>8.198066e+07</td>\n",
       "      <td>112.000000</td>\n",
       "      <td>148.000000</td>\n",
       "      <td>2011.000000</td>\n",
       "    </tr>\n",
       "    <tr>\n",
       "      <th>max</th>\n",
       "      <td>417859.000000</td>\n",
       "      <td>32.985763</td>\n",
       "      <td>4.250000e+08</td>\n",
       "      <td>2.781506e+09</td>\n",
       "      <td>2.544506e+09</td>\n",
       "      <td>900.000000</td>\n",
       "      <td>9767.000000</td>\n",
       "      <td>2015.000000</td>\n",
       "    </tr>\n",
       "  </tbody>\n",
       "</table>\n",
       "</div>"
      ],
      "text/plain": [
       "                  id    popularity        budget       revenue  profit_earned  \\\n",
       "count   10731.000000  10731.000000  5.153000e+03  4.843000e+03   3.849000e+03   \n",
       "mean    65201.741869      0.652615  3.082824e+07  8.933981e+07   7.056595e+07   \n",
       "std     91470.508056      1.004804  3.893199e+07  1.621546e+08   1.506990e+08   \n",
       "min         5.000000      0.000188  1.000000e+00  2.000000e+00  -4.139124e+08   \n",
       "25%     10547.500000      0.210765  6.000000e+06  7.779664e+06  -1.312284e+06   \n",
       "50%     20323.000000      0.387081  1.750000e+07  3.191160e+07   2.014450e+07   \n",
       "75%     73948.500000      0.720889  4.000000e+07  1.000000e+08   8.198066e+07   \n",
       "max    417859.000000     32.985763  4.250000e+08  2.781506e+09   2.544506e+09   \n",
       "\n",
       "            runtime    vote_count  release_year  \n",
       "count  10731.000000  10731.000000  10731.000000  \n",
       "mean     102.468829    219.812972   2001.259622  \n",
       "std       30.493873    578.815324     12.820151  \n",
       "min        0.000000     10.000000   1960.000000  \n",
       "25%       90.000000     17.000000   1995.000000  \n",
       "50%       99.000000     39.000000   2006.000000  \n",
       "75%      112.000000    148.000000   2011.000000  \n",
       "max      900.000000   9767.000000   2015.000000  "
      ]
     },
     "execution_count": 33,
     "metadata": {},
     "output_type": "execute_result"
    }
   ],
   "source": [
    "df_tmdb_movies.describe()"
   ]
  },
  {
   "cell_type": "markdown",
   "metadata": {},
   "source": [
    "### 6.  Movies with highest and least Profit Earned \n"
   ]
  },
  {
   "cell_type": "code",
   "execution_count": 34,
   "metadata": {
    "scrolled": true
   },
   "outputs": [
    {
     "data": {
      "text/html": [
       "<div>\n",
       "<style scoped>\n",
       "    .dataframe tbody tr th:only-of-type {\n",
       "        vertical-align: middle;\n",
       "    }\n",
       "\n",
       "    .dataframe tbody tr th {\n",
       "        vertical-align: top;\n",
       "    }\n",
       "\n",
       "    .dataframe thead th {\n",
       "        text-align: right;\n",
       "    }\n",
       "</style>\n",
       "<table border=\"1\" class=\"dataframe\">\n",
       "  <thead>\n",
       "    <tr style=\"text-align: right;\">\n",
       "      <th></th>\n",
       "      <th>1386</th>\n",
       "      <th>2244</th>\n",
       "    </tr>\n",
       "  </thead>\n",
       "  <tbody>\n",
       "    <tr>\n",
       "      <th>id</th>\n",
       "      <td>19995</td>\n",
       "      <td>46528</td>\n",
       "    </tr>\n",
       "    <tr>\n",
       "      <th>popularity</th>\n",
       "      <td>9.43277</td>\n",
       "      <td>0.25054</td>\n",
       "    </tr>\n",
       "    <tr>\n",
       "      <th>budget</th>\n",
       "      <td>2.37e+08</td>\n",
       "      <td>4.25e+08</td>\n",
       "    </tr>\n",
       "    <tr>\n",
       "      <th>revenue</th>\n",
       "      <td>2.78151e+09</td>\n",
       "      <td>1.10876e+07</td>\n",
       "    </tr>\n",
       "    <tr>\n",
       "      <th>profit_earned</th>\n",
       "      <td>2.54451e+09</td>\n",
       "      <td>-4.13912e+08</td>\n",
       "    </tr>\n",
       "    <tr>\n",
       "      <th>original_title</th>\n",
       "      <td>Avatar</td>\n",
       "      <td>The Warrior's Way</td>\n",
       "    </tr>\n",
       "    <tr>\n",
       "      <th>cast</th>\n",
       "      <td>Sam Worthington|Zoe Saldana|Sigourney Weaver|S...</td>\n",
       "      <td>Kate Bosworth|Jang Dong-gun|Geoffrey Rush|Dann...</td>\n",
       "    </tr>\n",
       "    <tr>\n",
       "      <th>director</th>\n",
       "      <td>James Cameron</td>\n",
       "      <td>Sngmoo Lee</td>\n",
       "    </tr>\n",
       "    <tr>\n",
       "      <th>runtime</th>\n",
       "      <td>162</td>\n",
       "      <td>100</td>\n",
       "    </tr>\n",
       "    <tr>\n",
       "      <th>genres</th>\n",
       "      <td>Action|Adventure|Fantasy|Science Fiction</td>\n",
       "      <td>Adventure|Fantasy|Action|Western|Thriller</td>\n",
       "    </tr>\n",
       "    <tr>\n",
       "      <th>production_companies</th>\n",
       "      <td>Ingenious Film Partners|Twentieth Century Fox ...</td>\n",
       "      <td>Boram Entertainment Inc.</td>\n",
       "    </tr>\n",
       "    <tr>\n",
       "      <th>release_date</th>\n",
       "      <td>2009-12-10 00:00:00</td>\n",
       "      <td>2010-12-02 00:00:00</td>\n",
       "    </tr>\n",
       "    <tr>\n",
       "      <th>vote_count</th>\n",
       "      <td>8458</td>\n",
       "      <td>74</td>\n",
       "    </tr>\n",
       "    <tr>\n",
       "      <th>release_year</th>\n",
       "      <td>2009</td>\n",
       "      <td>2010</td>\n",
       "    </tr>\n",
       "  </tbody>\n",
       "</table>\n",
       "</div>"
      ],
      "text/plain": [
       "                                                                   1386  \\\n",
       "id                                                                19995   \n",
       "popularity                                                      9.43277   \n",
       "budget                                                         2.37e+08   \n",
       "revenue                                                     2.78151e+09   \n",
       "profit_earned                                               2.54451e+09   \n",
       "original_title                                                   Avatar   \n",
       "cast                  Sam Worthington|Zoe Saldana|Sigourney Weaver|S...   \n",
       "director                                                  James Cameron   \n",
       "runtime                                                             162   \n",
       "genres                         Action|Adventure|Fantasy|Science Fiction   \n",
       "production_companies  Ingenious Film Partners|Twentieth Century Fox ...   \n",
       "release_date                                        2009-12-10 00:00:00   \n",
       "vote_count                                                         8458   \n",
       "release_year                                                       2009   \n",
       "\n",
       "                                                                   2244  \n",
       "id                                                                46528  \n",
       "popularity                                                      0.25054  \n",
       "budget                                                         4.25e+08  \n",
       "revenue                                                     1.10876e+07  \n",
       "profit_earned                                              -4.13912e+08  \n",
       "original_title                                        The Warrior's Way  \n",
       "cast                  Kate Bosworth|Jang Dong-gun|Geoffrey Rush|Dann...  \n",
       "director                                                     Sngmoo Lee  \n",
       "runtime                                                             100  \n",
       "genres                        Adventure|Fantasy|Action|Western|Thriller  \n",
       "production_companies                           Boram Entertainment Inc.  \n",
       "release_date                                        2010-12-02 00:00:00  \n",
       "vote_count                                                           74  \n",
       "release_year                                                       2010  "
      ]
     },
     "execution_count": 34,
     "metadata": {},
     "output_type": "execute_result"
    }
   ],
   "source": [
    "#defining the function\n",
    "def calculate(column):\n",
    "    #for highest earned profit\n",
    "    highest= df_tmdb_movies[column].idxmax()\n",
    "    highest_details=pd.DataFrame(df_tmdb_movies.loc[highest])\n",
    "    \n",
    "    #for lowest earned profit\n",
    "    lowest= df_tmdb_movies[column].idxmin()\n",
    "    lowest_details=pd.DataFrame(df_tmdb_movies.loc[lowest])\n",
    "    \n",
    "    #collectin data in one place\n",
    "    info=pd.concat([highest_details, lowest_details], axis=1)\n",
    "    \n",
    "    return info\n",
    "\n",
    "#calling the function\n",
    "calculate('profit_earned')"
   ]
  },
  {
   "cell_type": "markdown",
   "metadata": {},
   "source": [
    "1. The movie **Avatar** has the highest profit earned of 2.5 billion dollars, directed by James Cameron and release in year 2009\n",
    "\n",
    "2.  Whereas the movie is **The Warrior's way** has lowest profit earned of -4.13e8 dollars, directed by Sngmoo lee and released in by 2010"
   ]
  },
  {
   "cell_type": "code",
   "execution_count": 35,
   "metadata": {},
   "outputs": [
    {
     "data": {
      "image/png": "[encoded data removed]",
      "text/plain": [
       "<matplotlib.figure.Figure at 0x7fc6f6763668>"
      ]
     },
     "metadata": {
      "needs_background": "light"
     },
     "output_type": "display_data"
    }
   ],
   "source": [
    "plt.figure(figsize=[10,6])\n",
    "df_tmdb_movies.sort_values(by=\"profit_earned\",ascending=False).set_index(\"original_title\")[\"profit_earned\"][:15].plot(kind='bar'\n",
    "                                                                                                                      , color='#3274A1')\n",
    "plt.xlabel(\"Original Title\")\n",
    "plt.title(\"The Distribution of Profit Earned\");\n"
   ]
  },
  {
   "cell_type": "markdown",
   "metadata": {},
   "source": [
    ">> Avatar has the Higest Profit Earned"
   ]
  },
  {
   "cell_type": "code",
   "execution_count": 36,
   "metadata": {},
   "outputs": [
    {
     "data": {
      "image/png": "[encoded data removed]",
      "text/plain": [
       "<matplotlib.figure.Figure at 0x7fc6f64b1eb8>"
      ]
     },
     "metadata": {
      "needs_background": "light"
     },
     "output_type": "display_data"
    }
   ],
   "source": [
    "plt.figure(figsize=[10,6])\n",
    "df_tmdb_movies.sort_values(by=\"profit_earned\",ascending=True).set_index(\"original_title\")[\"profit_earned\"][:15].plot(kind='barh'\n",
    "                                                                                                                      , color='#3274A1')\n",
    "plt.xlabel(\"Profit Earned\")\n",
    "plt.ylabel( \"Original Title\")\n",
    "plt.title(\"The Distribution of Profit Earned\");"
   ]
  },
  {
   "cell_type": "markdown",
   "metadata": {},
   "source": [
    ">> The Warrior's way has the least Profit Earned"
   ]
  },
  {
   "cell_type": "markdown",
   "metadata": {},
   "source": [
    "### 7. Movies with highest and least revenue"
   ]
  },
  {
   "cell_type": "code",
   "execution_count": 37,
   "metadata": {},
   "outputs": [
    {
     "data": {
      "text/html": [
       "<div>\n",
       "<style scoped>\n",
       "    .dataframe tbody tr th:only-of-type {\n",
       "        vertical-align: middle;\n",
       "    }\n",
       "\n",
       "    .dataframe tbody tr th {\n",
       "        vertical-align: top;\n",
       "    }\n",
       "\n",
       "    .dataframe thead th {\n",
       "        text-align: right;\n",
       "    }\n",
       "</style>\n",
       "<table border=\"1\" class=\"dataframe\">\n",
       "  <thead>\n",
       "    <tr style=\"text-align: right;\">\n",
       "      <th></th>\n",
       "      <th>1386</th>\n",
       "      <th>5067</th>\n",
       "    </tr>\n",
       "  </thead>\n",
       "  <tbody>\n",
       "    <tr>\n",
       "      <th>id</th>\n",
       "      <td>19995</td>\n",
       "      <td>13537</td>\n",
       "    </tr>\n",
       "    <tr>\n",
       "      <th>popularity</th>\n",
       "      <td>9.43277</td>\n",
       "      <td>0.462609</td>\n",
       "    </tr>\n",
       "    <tr>\n",
       "      <th>budget</th>\n",
       "      <td>2.37e+08</td>\n",
       "      <td>6e+06</td>\n",
       "    </tr>\n",
       "    <tr>\n",
       "      <th>revenue</th>\n",
       "      <td>2.78151e+09</td>\n",
       "      <td>2</td>\n",
       "    </tr>\n",
       "    <tr>\n",
       "      <th>profit_earned</th>\n",
       "      <td>2.54451e+09</td>\n",
       "      <td>-6e+06</td>\n",
       "    </tr>\n",
       "    <tr>\n",
       "      <th>original_title</th>\n",
       "      <td>Avatar</td>\n",
       "      <td>Shattered Glass</td>\n",
       "    </tr>\n",
       "    <tr>\n",
       "      <th>cast</th>\n",
       "      <td>Sam Worthington|Zoe Saldana|Sigourney Weaver|S...</td>\n",
       "      <td>Hayden Christensen|Peter Sarsgaard|ChloÃ« Sevi...</td>\n",
       "    </tr>\n",
       "    <tr>\n",
       "      <th>director</th>\n",
       "      <td>James Cameron</td>\n",
       "      <td>Billy Ray</td>\n",
       "    </tr>\n",
       "    <tr>\n",
       "      <th>runtime</th>\n",
       "      <td>162</td>\n",
       "      <td>94</td>\n",
       "    </tr>\n",
       "    <tr>\n",
       "      <th>genres</th>\n",
       "      <td>Action|Adventure|Fantasy|Science Fiction</td>\n",
       "      <td>Drama|History</td>\n",
       "    </tr>\n",
       "    <tr>\n",
       "      <th>production_companies</th>\n",
       "      <td>Ingenious Film Partners|Twentieth Century Fox ...</td>\n",
       "      <td>Lions Gate Films|Cruise/Wagner Productions|Bau...</td>\n",
       "    </tr>\n",
       "    <tr>\n",
       "      <th>release_date</th>\n",
       "      <td>2009-12-10 00:00:00</td>\n",
       "      <td>2003-11-14 00:00:00</td>\n",
       "    </tr>\n",
       "    <tr>\n",
       "      <th>vote_count</th>\n",
       "      <td>8458</td>\n",
       "      <td>46</td>\n",
       "    </tr>\n",
       "    <tr>\n",
       "      <th>release_year</th>\n",
       "      <td>2009</td>\n",
       "      <td>2003</td>\n",
       "    </tr>\n",
       "  </tbody>\n",
       "</table>\n",
       "</div>"
      ],
      "text/plain": [
       "                                                                   1386  \\\n",
       "id                                                                19995   \n",
       "popularity                                                      9.43277   \n",
       "budget                                                         2.37e+08   \n",
       "revenue                                                     2.78151e+09   \n",
       "profit_earned                                               2.54451e+09   \n",
       "original_title                                                   Avatar   \n",
       "cast                  Sam Worthington|Zoe Saldana|Sigourney Weaver|S...   \n",
       "director                                                  James Cameron   \n",
       "runtime                                                             162   \n",
       "genres                         Action|Adventure|Fantasy|Science Fiction   \n",
       "production_companies  Ingenious Film Partners|Twentieth Century Fox ...   \n",
       "release_date                                        2009-12-10 00:00:00   \n",
       "vote_count                                                         8458   \n",
       "release_year                                                       2009   \n",
       "\n",
       "                                                                   5067  \n",
       "id                                                                13537  \n",
       "popularity                                                     0.462609  \n",
       "budget                                                            6e+06  \n",
       "revenue                                                               2  \n",
       "profit_earned                                                    -6e+06  \n",
       "original_title                                          Shattered Glass  \n",
       "cast                  Hayden Christensen|Peter Sarsgaard|ChloÃ« Sevi...  \n",
       "director                                                      Billy Ray  \n",
       "runtime                                                              94  \n",
       "genres                                                    Drama|History  \n",
       "production_companies  Lions Gate Films|Cruise/Wagner Productions|Bau...  \n",
       "release_date                                        2003-11-14 00:00:00  \n",
       "vote_count                                                           46  \n",
       "release_year                                                       2003  "
      ]
     },
     "execution_count": 37,
     "metadata": {},
     "output_type": "execute_result"
    }
   ],
   "source": [
    "# we will call the same function calculate\n",
    "calculate('revenue')"
   ]
  },
  {
   "cell_type": "markdown",
   "metadata": {},
   "source": [
    ">1. **Avatar Movie** the highest revenue  of   **2.78 billion dollar**\n",
    ">2. **Shattered Glass** shows the least revenue  of **2 dollar**"
   ]
  },
  {
   "cell_type": "code",
   "execution_count": 38,
   "metadata": {
    "scrolled": true
   },
   "outputs": [
    {
     "data": {
      "image/png": "[encoded data removed]",
      "text/plain": [
       "<matplotlib.figure.Figure at 0x7fc6f6411550>"
      ]
     },
     "metadata": {
      "needs_background": "light"
     },
     "output_type": "display_data"
    }
   ],
   "source": [
    "plt.figure(figsize=[10,6])\n",
    "df_tmdb_movies.sort_values(by=\"revenue\",ascending=False).set_index(\"original_title\")[\"revenue\"][:15].plot(kind='bar'\n",
    "                                                                                                          , color='#3274A1')\n",
    "plt.xlabel(\"Original Title\")\n",
    "plt.title(\"The Distribution of Revenue\");"
   ]
  },
  {
   "cell_type": "markdown",
   "metadata": {},
   "source": [
    ">> Avatar has the Highest Revenue "
   ]
  },
  {
   "cell_type": "code",
   "execution_count": 39,
   "metadata": {
    "scrolled": true
   },
   "outputs": [
    {
     "data": {
      "image/png": "[encoded data removed]",
      "text/plain": [
       "<matplotlib.figure.Figure at 0x7fc6f63d6c50>"
      ]
     },
     "metadata": {
      "needs_background": "light"
     },
     "output_type": "display_data"
    }
   ],
   "source": [
    "plt.figure(figsize=[10,6])\n",
    "df_tmdb_movies.sort_values(by=\"revenue\",ascending=True).set_index(\"original_title\")[\"revenue\"][:15].plot(kind='barh'\n",
    "                                                                                                          , color='#3274A1')\n",
    "plt.ylabel(\"Original Title\")\n",
    "plt.title(\"The Distribution of Revenue\");"
   ]
  },
  {
   "cell_type": "markdown",
   "metadata": {},
   "source": [
    "> Shattered Glass has the least Revenue"
   ]
  },
  {
   "cell_type": "markdown",
   "metadata": {},
   "source": [
    "### 8. Movies with largest and lowest budgets"
   ]
  },
  {
   "cell_type": "code",
   "execution_count": 40,
   "metadata": {
    "scrolled": true
   },
   "outputs": [
    {
     "data": {
      "text/html": [
       "<div>\n",
       "<style scoped>\n",
       "    .dataframe tbody tr th:only-of-type {\n",
       "        vertical-align: middle;\n",
       "    }\n",
       "\n",
       "    .dataframe tbody tr th {\n",
       "        vertical-align: top;\n",
       "    }\n",
       "\n",
       "    .dataframe thead th {\n",
       "        text-align: right;\n",
       "    }\n",
       "</style>\n",
       "<table border=\"1\" class=\"dataframe\">\n",
       "  <thead>\n",
       "    <tr style=\"text-align: right;\">\n",
       "      <th></th>\n",
       "      <th>2244</th>\n",
       "      <th>1151</th>\n",
       "    </tr>\n",
       "  </thead>\n",
       "  <tbody>\n",
       "    <tr>\n",
       "      <th>id</th>\n",
       "      <td>46528</td>\n",
       "      <td>287524</td>\n",
       "    </tr>\n",
       "    <tr>\n",
       "      <th>popularity</th>\n",
       "      <td>0.25054</td>\n",
       "      <td>0.177102</td>\n",
       "    </tr>\n",
       "    <tr>\n",
       "      <th>budget</th>\n",
       "      <td>4.25e+08</td>\n",
       "      <td>1</td>\n",
       "    </tr>\n",
       "    <tr>\n",
       "      <th>revenue</th>\n",
       "      <td>1.10876e+07</td>\n",
       "      <td>NaN</td>\n",
       "    </tr>\n",
       "    <tr>\n",
       "      <th>profit_earned</th>\n",
       "      <td>-4.13912e+08</td>\n",
       "      <td>NaN</td>\n",
       "    </tr>\n",
       "    <tr>\n",
       "      <th>original_title</th>\n",
       "      <td>The Warrior's Way</td>\n",
       "      <td>Fear Clinic</td>\n",
       "    </tr>\n",
       "    <tr>\n",
       "      <th>cast</th>\n",
       "      <td>Kate Bosworth|Jang Dong-gun|Geoffrey Rush|Dann...</td>\n",
       "      <td>Thomas Dekker|Robert Englund|Cleopatra Coleman...</td>\n",
       "    </tr>\n",
       "    <tr>\n",
       "      <th>director</th>\n",
       "      <td>Sngmoo Lee</td>\n",
       "      <td>Robert Hall</td>\n",
       "    </tr>\n",
       "    <tr>\n",
       "      <th>runtime</th>\n",
       "      <td>100</td>\n",
       "      <td>95</td>\n",
       "    </tr>\n",
       "    <tr>\n",
       "      <th>genres</th>\n",
       "      <td>Adventure|Fantasy|Action|Western|Thriller</td>\n",
       "      <td>Horror</td>\n",
       "    </tr>\n",
       "    <tr>\n",
       "      <th>production_companies</th>\n",
       "      <td>Boram Entertainment Inc.</td>\n",
       "      <td>Dry County Films|Anchor Bay Entertainment|Movi...</td>\n",
       "    </tr>\n",
       "    <tr>\n",
       "      <th>release_date</th>\n",
       "      <td>2010-12-02 00:00:00</td>\n",
       "      <td>2014-10-31 00:00:00</td>\n",
       "    </tr>\n",
       "    <tr>\n",
       "      <th>vote_count</th>\n",
       "      <td>74</td>\n",
       "      <td>15</td>\n",
       "    </tr>\n",
       "    <tr>\n",
       "      <th>release_year</th>\n",
       "      <td>2010</td>\n",
       "      <td>2014</td>\n",
       "    </tr>\n",
       "  </tbody>\n",
       "</table>\n",
       "</div>"
      ],
      "text/plain": [
       "                                                                   2244  \\\n",
       "id                                                                46528   \n",
       "popularity                                                      0.25054   \n",
       "budget                                                         4.25e+08   \n",
       "revenue                                                     1.10876e+07   \n",
       "profit_earned                                              -4.13912e+08   \n",
       "original_title                                        The Warrior's Way   \n",
       "cast                  Kate Bosworth|Jang Dong-gun|Geoffrey Rush|Dann...   \n",
       "director                                                     Sngmoo Lee   \n",
       "runtime                                                             100   \n",
       "genres                        Adventure|Fantasy|Action|Western|Thriller   \n",
       "production_companies                           Boram Entertainment Inc.   \n",
       "release_date                                        2010-12-02 00:00:00   \n",
       "vote_count                                                           74   \n",
       "release_year                                                       2010   \n",
       "\n",
       "                                                                   1151  \n",
       "id                                                               287524  \n",
       "popularity                                                     0.177102  \n",
       "budget                                                                1  \n",
       "revenue                                                             NaN  \n",
       "profit_earned                                                       NaN  \n",
       "original_title                                              Fear Clinic  \n",
       "cast                  Thomas Dekker|Robert Englund|Cleopatra Coleman...  \n",
       "director                                                    Robert Hall  \n",
       "runtime                                                              95  \n",
       "genres                                                           Horror  \n",
       "production_companies  Dry County Films|Anchor Bay Entertainment|Movi...  \n",
       "release_date                                        2014-10-31 00:00:00  \n",
       "vote_count                                                           15  \n",
       "release_year                                                       2014  "
      ]
     },
     "execution_count": 40,
     "metadata": {},
     "output_type": "execute_result"
    }
   ],
   "source": [
    "# calling the function calculate\n",
    "calculate('budget')"
   ]
  },
  {
   "cell_type": "markdown",
   "metadata": {},
   "source": [
    ">1. Warrior's Way has the largest budget of 4.2 million dollars.\n",
    ">2. Fear Clinic the lowest budget of 1 dollar"
   ]
  },
  {
   "cell_type": "code",
   "execution_count": 41,
   "metadata": {},
   "outputs": [
    {
     "data": {
      "image/png": "[encoded data removed]",
      "text/plain": [
       "<matplotlib.figure.Figure at 0x7fc6f62aec18>"
      ]
     },
     "metadata": {
      "needs_background": "light"
     },
     "output_type": "display_data"
    }
   ],
   "source": [
    "plt.figure(figsize=[10,6])\n",
    "df_tmdb_movies.sort_values(by=\"budget\",ascending=False).set_index(\"original_title\")[\"budget\"][:15].plot(kind='bar'\n",
    "                                                                                                        , color='#3274A1')\n",
    "plt.xlabel(\"Original Title\")\n",
    "plt.title(\"The Distribution of Budget\");\n"
   ]
  },
  {
   "cell_type": "markdown",
   "metadata": {},
   "source": [
    ">> The Warrior's Way has the largest Budget"
   ]
  },
  {
   "cell_type": "code",
   "execution_count": 42,
   "metadata": {
    "scrolled": true
   },
   "outputs": [
    {
     "data": {
      "image/png": "[encoded data removed]",
      "text/plain": [
       "<matplotlib.figure.Figure at 0x7fc6f62a5390>"
      ]
     },
     "metadata": {
      "needs_background": "light"
     },
     "output_type": "display_data"
    }
   ],
   "source": [
    "plt.figure(figsize=[10,6])\n",
    "df_tmdb_movies.sort_values(by=\"budget\",ascending=True).set_index(\"original_title\")[\"budget\"][:15].plot(kind='barh'\n",
    "                                                                                                        , color='#3274A1')\n",
    "plt.ylabel(\"Original Title\")\n",
    "plt.title(\"The Distribution of Budget\");\n"
   ]
  },
  {
   "cell_type": "markdown",
   "metadata": {},
   "source": [
    "> Fear Clinic has the lowest budget"
   ]
  },
  {
   "cell_type": "markdown",
   "metadata": {},
   "source": [
    "### 9. Movies with longest and shortest runtime"
   ]
  },
  {
   "cell_type": "code",
   "execution_count": 43,
   "metadata": {},
   "outputs": [
    {
     "data": {
      "text/html": [
       "<div>\n",
       "<style scoped>\n",
       "    .dataframe tbody tr th:only-of-type {\n",
       "        vertical-align: middle;\n",
       "    }\n",
       "\n",
       "    .dataframe tbody tr th {\n",
       "        vertical-align: top;\n",
       "    }\n",
       "\n",
       "    .dataframe thead th {\n",
       "        text-align: right;\n",
       "    }\n",
       "</style>\n",
       "<table border=\"1\" class=\"dataframe\">\n",
       "  <thead>\n",
       "    <tr style=\"text-align: right;\">\n",
       "      <th></th>\n",
       "      <th>3894</th>\n",
       "      <th>92</th>\n",
       "    </tr>\n",
       "  </thead>\n",
       "  <tbody>\n",
       "    <tr>\n",
       "      <th>id</th>\n",
       "      <td>125336</td>\n",
       "      <td>370687</td>\n",
       "    </tr>\n",
       "    <tr>\n",
       "      <th>popularity</th>\n",
       "      <td>0.006925</td>\n",
       "      <td>1.87604</td>\n",
       "    </tr>\n",
       "    <tr>\n",
       "      <th>budget</th>\n",
       "      <td>NaN</td>\n",
       "      <td>NaN</td>\n",
       "    </tr>\n",
       "    <tr>\n",
       "      <th>revenue</th>\n",
       "      <td>NaN</td>\n",
       "      <td>NaN</td>\n",
       "    </tr>\n",
       "    <tr>\n",
       "      <th>profit_earned</th>\n",
       "      <td>NaN</td>\n",
       "      <td>NaN</td>\n",
       "    </tr>\n",
       "    <tr>\n",
       "      <th>original_title</th>\n",
       "      <td>The Story of Film: An Odyssey</td>\n",
       "      <td>Mythica: The Necromancer</td>\n",
       "    </tr>\n",
       "    <tr>\n",
       "      <th>cast</th>\n",
       "      <td>Mark Cousins|Jean-Michel Frodon|Cari Beauchamp...</td>\n",
       "      <td>Melanie Stone|Adam Johnson|Kevin Sorbo|Nicola ...</td>\n",
       "    </tr>\n",
       "    <tr>\n",
       "      <th>director</th>\n",
       "      <td>Mark Cousins</td>\n",
       "      <td>A. Todd Smith</td>\n",
       "    </tr>\n",
       "    <tr>\n",
       "      <th>runtime</th>\n",
       "      <td>900</td>\n",
       "      <td>0</td>\n",
       "    </tr>\n",
       "    <tr>\n",
       "      <th>genres</th>\n",
       "      <td>Documentary</td>\n",
       "      <td>Fantasy|Action|Adventure</td>\n",
       "    </tr>\n",
       "    <tr>\n",
       "      <th>production_companies</th>\n",
       "      <td>NaN</td>\n",
       "      <td>Arrowstorm Entertainment|Camera 40 Productions...</td>\n",
       "    </tr>\n",
       "    <tr>\n",
       "      <th>release_date</th>\n",
       "      <td>2011-09-03 00:00:00</td>\n",
       "      <td>2015-12-19 00:00:00</td>\n",
       "    </tr>\n",
       "    <tr>\n",
       "      <th>vote_count</th>\n",
       "      <td>14</td>\n",
       "      <td>11</td>\n",
       "    </tr>\n",
       "    <tr>\n",
       "      <th>release_year</th>\n",
       "      <td>2011</td>\n",
       "      <td>2015</td>\n",
       "    </tr>\n",
       "  </tbody>\n",
       "</table>\n",
       "</div>"
      ],
      "text/plain": [
       "                                                                   3894  \\\n",
       "id                                                               125336   \n",
       "popularity                                                     0.006925   \n",
       "budget                                                              NaN   \n",
       "revenue                                                             NaN   \n",
       "profit_earned                                                       NaN   \n",
       "original_title                            The Story of Film: An Odyssey   \n",
       "cast                  Mark Cousins|Jean-Michel Frodon|Cari Beauchamp...   \n",
       "director                                                   Mark Cousins   \n",
       "runtime                                                             900   \n",
       "genres                                                      Documentary   \n",
       "production_companies                                                NaN   \n",
       "release_date                                        2011-09-03 00:00:00   \n",
       "vote_count                                                           14   \n",
       "release_year                                                       2011   \n",
       "\n",
       "                                                                   92    \n",
       "id                                                               370687  \n",
       "popularity                                                      1.87604  \n",
       "budget                                                              NaN  \n",
       "revenue                                                             NaN  \n",
       "profit_earned                                                       NaN  \n",
       "original_title                                 Mythica: The Necromancer  \n",
       "cast                  Melanie Stone|Adam Johnson|Kevin Sorbo|Nicola ...  \n",
       "director                                                  A. Todd Smith  \n",
       "runtime                                                               0  \n",
       "genres                                         Fantasy|Action|Adventure  \n",
       "production_companies  Arrowstorm Entertainment|Camera 40 Productions...  \n",
       "release_date                                        2015-12-19 00:00:00  \n",
       "vote_count                                                           11  \n",
       "release_year                                                       2015  "
      ]
     },
     "execution_count": 43,
     "metadata": {},
     "output_type": "execute_result"
    }
   ],
   "source": [
    "calculate('runtime')"
   ]
  },
  {
   "cell_type": "markdown",
   "metadata": {},
   "source": [
    "> 1. The Story of Film: An Odyssey has the longest runtime of 900 minutes.\n",
    "> 2. Mythica: The Necromancer the shortest runtime of 0 minutes"
   ]
  },
  {
   "cell_type": "code",
   "execution_count": 44,
   "metadata": {
    "scrolled": true
   },
   "outputs": [
    {
     "data": {
      "image/png": "[encoded data removed]",
      "text/plain": [
       "<matplotlib.figure.Figure at 0x7fc6f623a518>"
      ]
     },
     "metadata": {
      "needs_background": "light"
     },
     "output_type": "display_data"
    }
   ],
   "source": [
    "plt.figure(figsize=[10,6])\n",
    "df_tmdb_movies.sort_values(by=\"runtime\",ascending=False).set_index(\"original_title\")[\"runtime\"][:15].plot(kind='bar'\n",
    "                                                                                                        , color='#3274A1')\n",
    "plt.xlabel(\"Original Title\")\n",
    "plt.title(\"The Distribution of Runtime\");"
   ]
  },
  {
   "cell_type": "markdown",
   "metadata": {},
   "source": [
    "> The Story of Film: An Odyssey has the longest runtime "
   ]
  },
  {
   "cell_type": "markdown",
   "metadata": {},
   "source": [
    "### 10. Average runtime, budget and revenue of all movies"
   ]
  },
  {
   "cell_type": "code",
   "execution_count": 45,
   "metadata": {},
   "outputs": [],
   "source": [
    "def average(column):\n",
    "    return df_tmdb_movies[column].mean()\n"
   ]
  },
  {
   "cell_type": "code",
   "execution_count": 46,
   "metadata": {},
   "outputs": [
    {
     "data": {
      "text/plain": [
       "30828241.17446148"
      ]
     },
     "execution_count": 46,
     "metadata": {},
     "output_type": "execute_result"
    }
   ],
   "source": [
    "#Average Budget per movie\n",
    "average('budget')"
   ]
  },
  {
   "cell_type": "markdown",
   "metadata": {},
   "source": [
    ">> The Average Budget for the Movies Produce is 30 Million dollars"
   ]
  },
  {
   "cell_type": "code",
   "execution_count": 47,
   "metadata": {},
   "outputs": [
    {
     "data": {
      "text/plain": [
       "89339812.865372702"
      ]
     },
     "execution_count": 47,
     "metadata": {},
     "output_type": "execute_result"
    }
   ],
   "source": [
    "#Average Revenue per Movie\n",
    "average('revenue')"
   ]
  },
  {
   "cell_type": "markdown",
   "metadata": {},
   "source": [
    ">> The Average Revenue for the movies produce is 89 Millions Dollars"
   ]
  },
  {
   "cell_type": "code",
   "execution_count": 48,
   "metadata": {
    "scrolled": true
   },
   "outputs": [
    {
     "data": {
      "text/plain": [
       "102.46882862734135"
      ]
     },
     "execution_count": 48,
     "metadata": {},
     "output_type": "execute_result"
    }
   ],
   "source": [
    "average('runtime')"
   ]
  },
  {
   "cell_type": "markdown",
   "metadata": {},
   "source": [
    ">> The average runtime for movie is 102 minutes"
   ]
  },
  {
   "cell_type": "markdown",
   "metadata": {},
   "source": [
    "### 11. Profit Earned over the years"
   ]
  },
  {
   "cell_type": "code",
   "execution_count": 49,
   "metadata": {},
   "outputs": [
    {
     "data": {
      "image/png": "[encoded data removed]",
      "text/plain": [
       "<matplotlib.figure.Figure at 0x7fc6f62d96a0>"
      ]
     },
     "metadata": {
      "needs_background": "light"
     },
     "output_type": "display_data"
    }
   ],
   "source": [
    "profits_year = df_tmdb_movies.groupby('release_year')['profit_earned'].sum()\n",
    "\n",
    "#figure size(width, height)\n",
    "plt.figure(figsize=(10,6), dpi = 100)\n",
    "\n",
    "#on x-axis\n",
    "plt.xlabel('Release Year of Movies in the TMDb Movie data set', fontsize = 12)\n",
    "\n",
    "plt.ylabel('Profits earned on Movies', fontsize = 12)\n",
    "\n",
    "plt.title('Trend of Total Profits earned from all movies over the Year of their release.')\n",
    "\n",
    "plt.plot(profits_year)\n",
    "\n",
    "plt.show()"
   ]
  },
  {
   "cell_type": "markdown",
   "metadata": {},
   "source": [
    ">> There is an increase in profit earned over the year"
   ]
  },
  {
   "cell_type": "code",
   "execution_count": 50,
   "metadata": {},
   "outputs": [
    {
     "data": {
      "text/plain": [
       "2015"
      ]
     },
     "execution_count": 50,
     "metadata": {},
     "output_type": "execute_result"
    }
   ],
   "source": [
    "#To find that which year made the highest profit?\n",
    "profits_year.idxmax()"
   ]
  },
  {
   "cell_type": "code",
   "execution_count": 51,
   "metadata": {},
   "outputs": [
    {
     "data": {
      "text/plain": [
       "1966"
      ]
     },
     "execution_count": 51,
     "metadata": {},
     "output_type": "execute_result"
    }
   ],
   "source": [
    "# To find the year with least profit\n",
    "profits_year.idxmin()"
   ]
  },
  {
   "cell_type": "markdown",
   "metadata": {},
   "source": [
    "### 12. The budget and revenue over the year"
   ]
  },
  {
   "cell_type": "code",
   "execution_count": 52,
   "metadata": {},
   "outputs": [
    {
     "data": {
      "image/png": "[encoded data removed]",
      "text/plain": [
       "<matplotlib.figure.Figure at 0x7fc6f638d128>"
      ]
     },
     "metadata": {
      "needs_background": "light"
     },
     "output_type": "display_data"
    }
   ],
   "source": [
    "total_budget = df_tmdb_movies.groupby('release_year')['budget'].sum()\n",
    "\n",
    "#figure size(width, height)\n",
    "plt.figure(figsize=(10,6), dpi = 100)\n",
    "\n",
    "#on x-axis\n",
    "plt.xlabel('Release Year of Movies in the TMDb Movie data set', fontsize = 12)\n",
    "\n",
    "plt.ylabel('Budget Movies', fontsize = 12)\n",
    "\n",
    "plt.title('Trend of Budget of movies over the Year of their release.')\n",
    "\n",
    "plt.plot(total_budget)\n",
    "plt.show()\n"
   ]
  },
  {
   "cell_type": "markdown",
   "metadata": {},
   "source": [
    ">> There is an increase in budget over the year which drop in 2009"
   ]
  },
  {
   "cell_type": "code",
   "execution_count": 53,
   "metadata": {
    "scrolled": true
   },
   "outputs": [
    {
     "data": {
      "image/png": "[encoded data removed]",
      "text/plain": [
       "<matplotlib.figure.Figure at 0x7fc6f641b4a8>"
      ]
     },
     "metadata": {
      "needs_background": "light"
     },
     "output_type": "display_data"
    }
   ],
   "source": [
    "total_revenue = df_tmdb_movies.groupby('release_year')['revenue'].sum()\n",
    "\n",
    "#figure size(width, height)\n",
    "plt.figure(figsize=(10,6), dpi = 100)\n",
    "\n",
    "\n",
    "plt.xlabel('Release Year of Movies in the TMDb Movie data set', fontsize = 12)\n",
    "\n",
    "plt.ylabel('Revenue', fontsize = 12)\n",
    "\n",
    "plt.title('Trend of Revenue of movies over the Year of their release.')\n",
    "\n",
    "plt.plot(total_revenue)\n",
    "plt.show()"
   ]
  },
  {
   "cell_type": "markdown",
   "metadata": {},
   "source": [
    ">> There is an increase in revenue over the year with continue to grow"
   ]
  },
  {
   "cell_type": "markdown",
   "metadata": {},
   "source": [
    "<a id='conclusions'></a>\n",
    "## Conclusions "
   ]
  },
  {
   "cell_type": "markdown",
   "metadata": {},
   "source": [
    "> The highest movies was produce in 2014\n",
    "\n",
    "> The highest movies genre produce is Drama\n",
    "\n",
    "> The most casted 3 actors in movies are:\n",
    ">>1. Robert De Niro 72 times\n",
    ">>2. Samuel L. Jackson  71 times\n",
    ">>3. Bruce Willis 62 times\n",
    " \n",
    "> The 3 highest production company are:\n",
    ">>1. Universal Pictures  produces 522 Movies\n",
    ">>2. Warner Bros. produces 509 Movies\n",
    ">>3. Paramount Pictures 431 Movies\n",
    "\n",
    "> There is an increase in Profit Earned per movie produce over the years\n",
    "\n",
    "> There is an increase in budget of movies over the years which dip in 2009 and surge in 2012 \n"
   ]
  },
  {
   "cell_type": "markdown",
   "metadata": {},
   "source": [
    "<a id='Limitations'></a>\n",
    "## Limitations"
   ]
  },
  {
   "cell_type": "markdown",
   "metadata": {},
   "source": [
    "> Most values of budget, revenue and runtime are 0, I assumed its missing\n",
    "\n",
    "> The units of budget, revenue is not defined, the country in which the movies are produce in have different currency"
   ]
  }
 ],
 "metadata": {
  "kernelspec": {
   "display_name": "Python 3",
   "language": "python",
   "name": "python3"
  },
  "language_info": {
   "codemirror_mode": {
    "name": "ipython",
    "version": 3
   },
   "file_extension": ".py",
   "mimetype": "text/x-python",
   "name": "python",
   "nbconvert_exporter": "python",
   "pygments_lexer": "ipython3",
   "version": "3.6.3"
  }
 },
 "nbformat": 4,
 "nbformat_minor": 2
}
